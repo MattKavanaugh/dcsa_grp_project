{
 "cells": [
  {
   "cell_type": "code",
   "execution_count": 1,
   "metadata": {},
   "outputs": [],
   "source": [
    "# load libraries\n",
    "import geopandas as gpd\n",
    "import pandas as pd\n",
    "import numpy as np\n",
    "import os\n",
    "import requests\n",
    "from urllib.request import urlopen\n",
    "import json\n",
    "from shapely import wkt\n",
    "import matplotlib.pyplot as plt\n",
    "%matplotlib inline"
   ]
  },
  {
   "cell_type": "markdown",
   "metadata": {},
   "source": [
    "# Crime"
   ]
  },
  {
   "cell_type": "markdown",
   "metadata": {},
   "source": [
    "### Load Crime Data"
   ]
  },
  {
   "cell_type": "code",
   "execution_count": 2,
   "metadata": {},
   "outputs": [
    {
     "data": {
      "text/plain": [
       "<Geographic 2D CRS: EPSG:4326>\n",
       "Name: WGS 84\n",
       "Axis Info [ellipsoidal]:\n",
       "- Lat[north]: Geodetic latitude (degree)\n",
       "- Lon[east]: Geodetic longitude (degree)\n",
       "Area of Use:\n",
       "- name: World\n",
       "- bounds: (-180.0, -90.0, 180.0, 90.0)\n",
       "Datum: World Geodetic System 1984\n",
       "- Ellipsoid: WGS 84\n",
       "- Prime Meridian: Greenwich"
      ]
     },
     "execution_count": 2,
     "metadata": {},
     "output_type": "execute_result"
    }
   ],
   "source": [
    "# load data into geopandas dataframe\n",
    "crime = gpd.read_file(\"https://opendata.arcgis.com/datasets/716338a41410457bb415a4bae2b2ad3e_0.geojson\", low_memory=False)\n",
    "\n",
    "# confirm load\n",
    "crime.crs"
   ]
  },
  {
   "cell_type": "code",
   "execution_count": 3,
   "metadata": {},
   "outputs": [
    {
     "name": "stdout",
     "output_type": "stream",
     "text": [
      "['Index_', 'event_unique_id', 'Division', 'occurrencedate', 'reporteddate', 'location_type', 'premises_type', 'ucr_code', 'ucr_ext', 'offence', 'reportedyear', 'reportedmonth', 'reportedday', 'reporteddayofyear', 'reporteddayofweek', 'reportedhour', 'occurrenceyear', 'occurrencemonth', 'occurrenceday', 'occurrencedayofyear', 'occurrencedayofweek', 'occurrencehour', 'MCI', 'Hood_ID', 'Neighbourhood', 'Long', 'Lat', 'ObjectId', 'geometry']\n"
     ]
    }
   ],
   "source": [
    "# check column names - makes copying text for later steps easier\n",
    "print(list(crime.columns.values))"
   ]
  },
  {
   "cell_type": "code",
   "execution_count": 4,
   "metadata": {},
   "outputs": [
    {
     "data": {
      "text/plain": [
       "(281692, 29)"
      ]
     },
     "execution_count": 4,
     "metadata": {},
     "output_type": "execute_result"
    }
   ],
   "source": [
    "# look at dataframe\n",
    "crime.shape"
   ]
  },
  {
   "cell_type": "code",
   "execution_count": 5,
   "metadata": {},
   "outputs": [
    {
     "name": "stdout",
     "output_type": "stream",
     "text": [
      "<class 'geopandas.geodataframe.GeoDataFrame'>\n",
      "RangeIndex: 281692 entries, 0 to 281691\n",
      "Data columns (total 29 columns):\n",
      " #   Column               Non-Null Count   Dtype   \n",
      "---  ------               --------------   -----   \n",
      " 0   Index_               281692 non-null  int64   \n",
      " 1   event_unique_id      281692 non-null  object  \n",
      " 2   Division             281692 non-null  object  \n",
      " 3   occurrencedate       281692 non-null  object  \n",
      " 4   reporteddate         281692 non-null  object  \n",
      " 5   location_type        281692 non-null  object  \n",
      " 6   premises_type        281692 non-null  object  \n",
      " 7   ucr_code             281692 non-null  int64   \n",
      " 8   ucr_ext              281692 non-null  int64   \n",
      " 9   offence              281692 non-null  object  \n",
      " 10  reportedyear         281692 non-null  int64   \n",
      " 11  reportedmonth        281692 non-null  object  \n",
      " 12  reportedday          281692 non-null  int64   \n",
      " 13  reporteddayofyear    281692 non-null  int64   \n",
      " 14  reporteddayofweek    281692 non-null  object  \n",
      " 15  reportedhour         281692 non-null  int64   \n",
      " 16  occurrenceyear       281692 non-null  int64   \n",
      " 17  occurrencemonth      281692 non-null  object  \n",
      " 18  occurrenceday        281692 non-null  int64   \n",
      " 19  occurrencedayofyear  281692 non-null  int64   \n",
      " 20  occurrencedayofweek  281692 non-null  object  \n",
      " 21  occurrencehour       281692 non-null  int64   \n",
      " 22  MCI                  281692 non-null  object  \n",
      " 23  Hood_ID              281692 non-null  object  \n",
      " 24  Neighbourhood        281692 non-null  object  \n",
      " 25  Long                 281692 non-null  float64 \n",
      " 26  Lat                  281692 non-null  float64 \n",
      " 27  ObjectId             281692 non-null  int64   \n",
      " 28  geometry             281692 non-null  geometry\n",
      "dtypes: float64(2), geometry(1), int64(12), object(14)\n",
      "memory usage: 62.3+ MB\n"
     ]
    }
   ],
   "source": [
    "crime.info()"
   ]
  },
  {
   "cell_type": "code",
   "execution_count": 6,
   "metadata": {},
   "outputs": [
    {
     "data": {
      "text/html": [
       "<div>\n",
       "<style scoped>\n",
       "    .dataframe tbody tr th:only-of-type {\n",
       "        vertical-align: middle;\n",
       "    }\n",
       "\n",
       "    .dataframe tbody tr th {\n",
       "        vertical-align: top;\n",
       "    }\n",
       "\n",
       "    .dataframe thead th {\n",
       "        text-align: right;\n",
       "    }\n",
       "</style>\n",
       "<table border=\"1\" class=\"dataframe\">\n",
       "  <thead>\n",
       "    <tr style=\"text-align: right;\">\n",
       "      <th></th>\n",
       "      <th>Index_</th>\n",
       "      <th>event_unique_id</th>\n",
       "      <th>Division</th>\n",
       "      <th>occurrencedate</th>\n",
       "      <th>reporteddate</th>\n",
       "      <th>location_type</th>\n",
       "      <th>premises_type</th>\n",
       "      <th>ucr_code</th>\n",
       "      <th>ucr_ext</th>\n",
       "      <th>offence</th>\n",
       "      <th>...</th>\n",
       "      <th>occurrencedayofyear</th>\n",
       "      <th>occurrencedayofweek</th>\n",
       "      <th>occurrencehour</th>\n",
       "      <th>MCI</th>\n",
       "      <th>Hood_ID</th>\n",
       "      <th>Neighbourhood</th>\n",
       "      <th>Long</th>\n",
       "      <th>Lat</th>\n",
       "      <th>ObjectId</th>\n",
       "      <th>geometry</th>\n",
       "    </tr>\n",
       "  </thead>\n",
       "  <tbody>\n",
       "    <tr>\n",
       "      <th>0</th>\n",
       "      <td>110</td>\n",
       "      <td>GO-20141625305</td>\n",
       "      <td>D23</td>\n",
       "      <td>2014-03-02T05:00:00</td>\n",
       "      <td>2014-03-02T05:00:00</td>\n",
       "      <td>Single Home, House (Attach Garage, Cottage, Mo...</td>\n",
       "      <td>House</td>\n",
       "      <td>1430</td>\n",
       "      <td>100</td>\n",
       "      <td>Assault</td>\n",
       "      <td>...</td>\n",
       "      <td>61</td>\n",
       "      <td>Sunday</td>\n",
       "      <td>8</td>\n",
       "      <td>Assault</td>\n",
       "      <td>1</td>\n",
       "      <td>West Humber-Clairville</td>\n",
       "      <td>-79.590332</td>\n",
       "      <td>43.734013</td>\n",
       "      <td>1</td>\n",
       "      <td>POINT (-79.59033 43.73401)</td>\n",
       "    </tr>\n",
       "    <tr>\n",
       "      <th>1</th>\n",
       "      <td>188</td>\n",
       "      <td>GO-20141272968</td>\n",
       "      <td>D23</td>\n",
       "      <td>2013-12-24T05:00:00</td>\n",
       "      <td>2014-01-03T05:00:00</td>\n",
       "      <td>Commercial Dwelling Unit (Hotel, Motel, B &amp; B,...</td>\n",
       "      <td>Commercial</td>\n",
       "      <td>1610</td>\n",
       "      <td>200</td>\n",
       "      <td>Robbery - Mugging</td>\n",
       "      <td>...</td>\n",
       "      <td>358</td>\n",
       "      <td>Tuesday</td>\n",
       "      <td>22</td>\n",
       "      <td>Robbery</td>\n",
       "      <td>1</td>\n",
       "      <td>West Humber-Clairville</td>\n",
       "      <td>-79.600701</td>\n",
       "      <td>43.731834</td>\n",
       "      <td>2</td>\n",
       "      <td>POINT (-79.60070 43.73183)</td>\n",
       "    </tr>\n",
       "    <tr>\n",
       "      <th>2</th>\n",
       "      <td>287</td>\n",
       "      <td>GO-20141284361</td>\n",
       "      <td>D23</td>\n",
       "      <td>2013-01-05T05:00:00</td>\n",
       "      <td>2014-01-05T05:00:00</td>\n",
       "      <td>Commercial Dwelling Unit (Hotel, Motel, B &amp; B,...</td>\n",
       "      <td>Commercial</td>\n",
       "      <td>1430</td>\n",
       "      <td>100</td>\n",
       "      <td>Assault</td>\n",
       "      <td>...</td>\n",
       "      <td>5</td>\n",
       "      <td>Saturday</td>\n",
       "      <td>4</td>\n",
       "      <td>Assault</td>\n",
       "      <td>1</td>\n",
       "      <td>West Humber-Clairville</td>\n",
       "      <td>-79.600794</td>\n",
       "      <td>43.686423</td>\n",
       "      <td>3</td>\n",
       "      <td>POINT (-79.60079 43.68642)</td>\n",
       "    </tr>\n",
       "    <tr>\n",
       "      <th>3</th>\n",
       "      <td>384</td>\n",
       "      <td>GO-20141292177</td>\n",
       "      <td>D23</td>\n",
       "      <td>2013-12-31T05:00:00</td>\n",
       "      <td>2014-01-06T05:00:00</td>\n",
       "      <td>Other Commercial / Corporate Places (For Profi...</td>\n",
       "      <td>Commercial</td>\n",
       "      <td>2120</td>\n",
       "      <td>200</td>\n",
       "      <td>B&amp;E</td>\n",
       "      <td>...</td>\n",
       "      <td>365</td>\n",
       "      <td>Tuesday</td>\n",
       "      <td>21</td>\n",
       "      <td>Break and Enter</td>\n",
       "      <td>1</td>\n",
       "      <td>West Humber-Clairville</td>\n",
       "      <td>-79.603876</td>\n",
       "      <td>43.743642</td>\n",
       "      <td>4</td>\n",
       "      <td>POINT (-79.60388 43.74364)</td>\n",
       "    </tr>\n",
       "    <tr>\n",
       "      <th>4</th>\n",
       "      <td>438</td>\n",
       "      <td>GO-20141297201</td>\n",
       "      <td>D23</td>\n",
       "      <td>2014-01-03T05:00:00</td>\n",
       "      <td>2014-01-07T05:00:00</td>\n",
       "      <td>Other Commercial / Corporate Places (For Profi...</td>\n",
       "      <td>Commercial</td>\n",
       "      <td>2120</td>\n",
       "      <td>200</td>\n",
       "      <td>B&amp;E</td>\n",
       "      <td>...</td>\n",
       "      <td>3</td>\n",
       "      <td>Friday</td>\n",
       "      <td>10</td>\n",
       "      <td>Break and Enter</td>\n",
       "      <td>1</td>\n",
       "      <td>West Humber-Clairville</td>\n",
       "      <td>-79.586443</td>\n",
       "      <td>43.697108</td>\n",
       "      <td>5</td>\n",
       "      <td>POINT (-79.58644 43.69711)</td>\n",
       "    </tr>\n",
       "  </tbody>\n",
       "</table>\n",
       "<p>5 rows × 29 columns</p>\n",
       "</div>"
      ],
      "text/plain": [
       "   Index_ event_unique_id Division       occurrencedate         reporteddate  \\\n",
       "0     110  GO-20141625305      D23  2014-03-02T05:00:00  2014-03-02T05:00:00   \n",
       "1     188  GO-20141272968      D23  2013-12-24T05:00:00  2014-01-03T05:00:00   \n",
       "2     287  GO-20141284361      D23  2013-01-05T05:00:00  2014-01-05T05:00:00   \n",
       "3     384  GO-20141292177      D23  2013-12-31T05:00:00  2014-01-06T05:00:00   \n",
       "4     438  GO-20141297201      D23  2014-01-03T05:00:00  2014-01-07T05:00:00   \n",
       "\n",
       "                                       location_type premises_type  ucr_code  \\\n",
       "0  Single Home, House (Attach Garage, Cottage, Mo...         House      1430   \n",
       "1  Commercial Dwelling Unit (Hotel, Motel, B & B,...    Commercial      1610   \n",
       "2  Commercial Dwelling Unit (Hotel, Motel, B & B,...    Commercial      1430   \n",
       "3  Other Commercial / Corporate Places (For Profi...    Commercial      2120   \n",
       "4  Other Commercial / Corporate Places (For Profi...    Commercial      2120   \n",
       "\n",
       "   ucr_ext            offence  ...  occurrencedayofyear occurrencedayofweek  \\\n",
       "0      100            Assault  ...                   61          Sunday       \n",
       "1      200  Robbery - Mugging  ...                  358          Tuesday      \n",
       "2      100            Assault  ...                    5          Saturday     \n",
       "3      200                B&E  ...                  365          Tuesday      \n",
       "4      200                B&E  ...                    3          Friday       \n",
       "\n",
       "   occurrencehour              MCI Hood_ID           Neighbourhood       Long  \\\n",
       "0               8          Assault       1  West Humber-Clairville -79.590332   \n",
       "1              22          Robbery       1  West Humber-Clairville -79.600701   \n",
       "2               4          Assault       1  West Humber-Clairville -79.600794   \n",
       "3              21  Break and Enter       1  West Humber-Clairville -79.603876   \n",
       "4              10  Break and Enter       1  West Humber-Clairville -79.586443   \n",
       "\n",
       "         Lat  ObjectId                    geometry  \n",
       "0  43.734013         1  POINT (-79.59033 43.73401)  \n",
       "1  43.731834         2  POINT (-79.60070 43.73183)  \n",
       "2  43.686423         3  POINT (-79.60079 43.68642)  \n",
       "3  43.743642         4  POINT (-79.60388 43.74364)  \n",
       "4  43.697108         5  POINT (-79.58644 43.69711)  \n",
       "\n",
       "[5 rows x 29 columns]"
      ]
     },
     "execution_count": 6,
     "metadata": {},
     "output_type": "execute_result"
    }
   ],
   "source": [
    "crime.head()"
   ]
  },
  {
   "cell_type": "markdown",
   "metadata": {},
   "source": [
    "### Reduce Crime Data"
   ]
  },
  {
   "cell_type": "code",
   "execution_count": 7,
   "metadata": {},
   "outputs": [],
   "source": [
    "# Data review\n",
    "\n",
    "# 1. crime types - 2 fields\n",
    "    # offence and MCI fields - from documentation, we know that offence is a non-standardized open field, whereas MCI is categorized\n",
    "    # we will drop offence and keep MCI\n",
    "    \n",
    "# 2. neighbourhood and location - 5 fields\n",
    "    # Hood_ID and Neighbourhood fields are duplicates, but should both be left in for fleixbility in matching with neighoburhood polygons later\n",
    "        # documentation indicates that for locations identified outside the city of Toronto limits or as invalidated locations\n",
    "        # the division/neighbourhood designation will be ‘NSA’ to indicate ‘Not Specified Area.’\n",
    "        # we will identify and delete 'NSA' values as we are only concerned with occurences with identifiable locations\n",
    "    # Lat, Lon, Geometry fields\n",
    "        #we will check lat and long to see if there are outliers to remove, then we will delete them\n",
    "    \n",
    "# 3. cateogrical fields - 4 fields\n",
    "    # location_type, premises_type, MCI, and Neighbourhood fields are all categorical data as indicated in the documentation\n",
    "    # location_type is too detailed for our purposes\n",
    "    # we will delete location_type and keep rest\n",
    "    \n",
    "# 4. ids - 2 fields\n",
    "    # event_unique_id and ObjectId fields seem to both be unique values, but they are different data types\n",
    "    # documentation suggests that occurences with multiple types of crimes will show up as multiple entries\n",
    "    # therefore, one of these fields will have multiple entries and the other will have unique values - we will need to confirm differences\n",
    "\n",
    "# 5. dates - 7 fields\n",
    "    # occurrencedate, occurrenceyear, occurrencemonth, occurrenceday, occurrencedayofyear, occurrencedayofweek, and occurrencehour fields\n",
    "    # occurencedate is generalized and is sufficient for our purposes\n",
    "    # we will keep occurrencedate, occurrenceyear, occurrencemonth, occurrenceday for now and delete the rest"
   ]
  },
  {
   "cell_type": "code",
   "execution_count": 8,
   "metadata": {},
   "outputs": [
    {
     "data": {
      "text/plain": [
       "(281692, 13)"
      ]
     },
     "execution_count": 8,
     "metadata": {},
     "output_type": "execute_result"
    }
   ],
   "source": [
    "# Clean 1, 2, 5 and drop columns we don't need\n",
    "cols2drop = ['Index_', 'Division', 'reporteddate', 'location_type', 'ucr_code', 'ucr_ext', 'offence', 'reportedyear', 'reportedmonth', \n",
    "             'reportedday', 'reporteddayofyear', 'reporteddayofweek', 'reportedhour', 'occurrencedayofyear', 'occurrencedayofweek', 'occurrencehour']\n",
    "for col in crime.columns:\n",
    "    if col in cols2drop:\n",
    "        crime.drop(col, inplace=True, axis=1)\n",
    "        \n",
    "# confirm reduced dataframe\n",
    "crime.shape"
   ]
  },
  {
   "cell_type": "code",
   "execution_count": 9,
   "metadata": {},
   "outputs": [
    {
     "name": "stdout",
     "output_type": "stream",
     "text": [
      "['event_unique_id', 'occurrencedate', 'premises_type', 'occurrenceyear', 'occurrencemonth', 'occurrenceday', 'MCI', 'Hood_ID', 'Neighbourhood', 'Long', 'Lat', 'ObjectId', 'geometry']\n"
     ]
    }
   ],
   "source": [
    "# 16 columns removed\n",
    "# check column names again - makes copying text for later steps easier\n",
    "print(list(crime.columns.values))"
   ]
  },
  {
   "cell_type": "code",
   "execution_count": 10,
   "metadata": {},
   "outputs": [
    {
     "data": {
      "text/plain": [
       "2019    39912\n",
       "2018    37408\n",
       "2017    35484\n",
       "2020    34866\n",
       "2021    33685\n",
       "2016    33596\n",
       "2015    32910\n",
       "2014    32459\n",
       "2013      594\n",
       "2012      182\n",
       "2011      128\n",
       "2010       96\n",
       "0          95\n",
       "2009       71\n",
       "2008       42\n",
       "2007       35\n",
       "2004       26\n",
       "2005       24\n",
       "2000       22\n",
       "2001       20\n",
       "2003       14\n",
       "2002       12\n",
       "2006       11\n",
       "Name: occurrenceyear, dtype: int64"
      ]
     },
     "execution_count": 10,
     "metadata": {},
     "output_type": "execute_result"
    }
   ],
   "source": [
    "# let's take a quick peek at crime by year\n",
    "crime['occurrenceyear'].value_counts()"
   ]
  },
  {
   "cell_type": "code",
   "execution_count": 11,
   "metadata": {},
   "outputs": [
    {
     "data": {
      "text/plain": [
       "(280320, 13)"
      ]
     },
     "execution_count": 11,
     "metadata": {},
     "output_type": "execute_result"
    }
   ],
   "source": [
    "# there appears to be a big change in crime data between 2013 and 2014 - a jump by 30 thousand a year!\n",
    "# data from 2014 onwards appears to be similar and represents over 250,000 of the 281,692 entries in this dataset\n",
    "# it is not clear why this is the case - perhaps due to a change in tracking or recording practices\n",
    "# in order to ensure our analysis is not skewed, we will delete all occurences from 2013 or earlier\n",
    "crime = crime[crime['occurrenceyear'] > 2013]\n",
    "\n",
    "# confirm reduced dataframe\n",
    "crime.shape"
   ]
  },
  {
   "cell_type": "code",
   "execution_count": 12,
   "metadata": {},
   "outputs": [
    {
     "data": {
      "text/plain": [
       "2019    39912\n",
       "2018    37408\n",
       "2017    35484\n",
       "2020    34866\n",
       "2021    33685\n",
       "2016    33596\n",
       "2015    32910\n",
       "2014    32459\n",
       "Name: occurrenceyear, dtype: int64"
      ]
     },
     "execution_count": 12,
     "metadata": {},
     "output_type": "execute_result"
    }
   ],
   "source": [
    "# appox 1300 crime events removed\n",
    "# let's take another look at crime by year\n",
    "crime['occurrenceyear'].value_counts()"
   ]
  },
  {
   "cell_type": "code",
   "execution_count": 13,
   "metadata": {},
   "outputs": [
    {
     "name": "stdout",
     "output_type": "stream",
     "text": [
      "Writing to: crimeData.csv.gz\n",
      "Done.\n"
     ]
    }
   ],
   "source": [
    "## LOCAL ONLY\n",
    "\n",
    "# save reduced data locally\n",
    "path = os.path.join('data','raw')\n",
    "fn = 'crimeData.csv.gz'\n",
    "print(f\"Writing to: {fn}\")\n",
    "\n",
    "if not os.path.exists(path):\n",
    "    print(f\"Creating {path} under {os.getcwd()}\")\n",
    "    os.makedirs(path)\n",
    "    \n",
    "crime.to_csv(os.path.join(path,fn), index=False, compression=\"gzip\")\n",
    "print(\"Done.\")"
   ]
  },
  {
   "cell_type": "markdown",
   "metadata": {},
   "source": [
    "### Clean Crime Data"
   ]
  },
  {
   "cell_type": "code",
   "execution_count": 14,
   "metadata": {},
   "outputs": [
    {
     "data": {
      "text/html": [
       "<div>\n",
       "<style scoped>\n",
       "    .dataframe tbody tr th:only-of-type {\n",
       "        vertical-align: middle;\n",
       "    }\n",
       "\n",
       "    .dataframe tbody tr th {\n",
       "        vertical-align: top;\n",
       "    }\n",
       "\n",
       "    .dataframe thead th {\n",
       "        text-align: right;\n",
       "    }\n",
       "</style>\n",
       "<table border=\"1\" class=\"dataframe\">\n",
       "  <thead>\n",
       "    <tr style=\"text-align: right;\">\n",
       "      <th></th>\n",
       "      <th>event_unique_id</th>\n",
       "      <th>occurrencedate</th>\n",
       "      <th>premises_type</th>\n",
       "      <th>occurrenceyear</th>\n",
       "      <th>occurrencemonth</th>\n",
       "      <th>occurrenceday</th>\n",
       "      <th>MCI</th>\n",
       "      <th>Hood_ID</th>\n",
       "      <th>Neighbourhood</th>\n",
       "      <th>Long</th>\n",
       "      <th>Lat</th>\n",
       "      <th>ObjectId</th>\n",
       "      <th>geometry</th>\n",
       "    </tr>\n",
       "  </thead>\n",
       "  <tbody>\n",
       "    <tr>\n",
       "      <th>0</th>\n",
       "      <td>GO-20141625305</td>\n",
       "      <td>2014-03-02T05:00:00</td>\n",
       "      <td>House</td>\n",
       "      <td>2014</td>\n",
       "      <td>March</td>\n",
       "      <td>2</td>\n",
       "      <td>Assault</td>\n",
       "      <td>1</td>\n",
       "      <td>West Humber-Clairville</td>\n",
       "      <td>-79.590332</td>\n",
       "      <td>43.734013</td>\n",
       "      <td>1</td>\n",
       "      <td>POINT (-79.59033 43.73401)</td>\n",
       "    </tr>\n",
       "    <tr>\n",
       "      <th>4</th>\n",
       "      <td>GO-20141297201</td>\n",
       "      <td>2014-01-03T05:00:00</td>\n",
       "      <td>Commercial</td>\n",
       "      <td>2014</td>\n",
       "      <td>January</td>\n",
       "      <td>3</td>\n",
       "      <td>Break and Enter</td>\n",
       "      <td>1</td>\n",
       "      <td>West Humber-Clairville</td>\n",
       "      <td>-79.586443</td>\n",
       "      <td>43.697108</td>\n",
       "      <td>5</td>\n",
       "      <td>POINT (-79.58644 43.69711)</td>\n",
       "    </tr>\n",
       "    <tr>\n",
       "      <th>5</th>\n",
       "      <td>GO-20141302953</td>\n",
       "      <td>2014-01-08T05:00:00</td>\n",
       "      <td>Commercial</td>\n",
       "      <td>2014</td>\n",
       "      <td>January</td>\n",
       "      <td>8</td>\n",
       "      <td>Theft Over</td>\n",
       "      <td>1</td>\n",
       "      <td>West Humber-Clairville</td>\n",
       "      <td>-79.584931</td>\n",
       "      <td>43.678342</td>\n",
       "      <td>6</td>\n",
       "      <td>POINT (-79.58493 43.67834)</td>\n",
       "    </tr>\n",
       "    <tr>\n",
       "      <th>6</th>\n",
       "      <td>GO-20141304312</td>\n",
       "      <td>2014-01-08T05:00:00</td>\n",
       "      <td>House</td>\n",
       "      <td>2014</td>\n",
       "      <td>January</td>\n",
       "      <td>8</td>\n",
       "      <td>Break and Enter</td>\n",
       "      <td>1</td>\n",
       "      <td>West Humber-Clairville</td>\n",
       "      <td>-79.620043</td>\n",
       "      <td>43.722990</td>\n",
       "      <td>7</td>\n",
       "      <td>POINT (-79.62004 43.72299)</td>\n",
       "    </tr>\n",
       "    <tr>\n",
       "      <th>7</th>\n",
       "      <td>GO-20141303907</td>\n",
       "      <td>2014-01-06T05:00:00</td>\n",
       "      <td>Commercial</td>\n",
       "      <td>2014</td>\n",
       "      <td>January</td>\n",
       "      <td>6</td>\n",
       "      <td>Theft Over</td>\n",
       "      <td>1</td>\n",
       "      <td>West Humber-Clairville</td>\n",
       "      <td>-79.584931</td>\n",
       "      <td>43.678342</td>\n",
       "      <td>8</td>\n",
       "      <td>POINT (-79.58493 43.67834)</td>\n",
       "    </tr>\n",
       "    <tr>\n",
       "      <th>9</th>\n",
       "      <td>GO-20141319035</td>\n",
       "      <td>2014-01-10T05:00:00</td>\n",
       "      <td>House</td>\n",
       "      <td>2014</td>\n",
       "      <td>January</td>\n",
       "      <td>10</td>\n",
       "      <td>Break and Enter</td>\n",
       "      <td>1</td>\n",
       "      <td>West Humber-Clairville</td>\n",
       "      <td>-79.624434</td>\n",
       "      <td>43.728138</td>\n",
       "      <td>10</td>\n",
       "      <td>POINT (-79.62443 43.72814)</td>\n",
       "    </tr>\n",
       "    <tr>\n",
       "      <th>10</th>\n",
       "      <td>GO-20141328884</td>\n",
       "      <td>2014-01-12T05:00:00</td>\n",
       "      <td>Other</td>\n",
       "      <td>2014</td>\n",
       "      <td>January</td>\n",
       "      <td>12</td>\n",
       "      <td>Assault</td>\n",
       "      <td>1</td>\n",
       "      <td>West Humber-Clairville</td>\n",
       "      <td>-79.618214</td>\n",
       "      <td>43.732364</td>\n",
       "      <td>11</td>\n",
       "      <td>POINT (-79.61821 43.73236)</td>\n",
       "    </tr>\n",
       "    <tr>\n",
       "      <th>11</th>\n",
       "      <td>GO-20141332021</td>\n",
       "      <td>2014-01-12T05:00:00</td>\n",
       "      <td>Apartment</td>\n",
       "      <td>2014</td>\n",
       "      <td>January</td>\n",
       "      <td>12</td>\n",
       "      <td>Assault</td>\n",
       "      <td>1</td>\n",
       "      <td>West Humber-Clairville</td>\n",
       "      <td>-79.602267</td>\n",
       "      <td>43.755689</td>\n",
       "      <td>12</td>\n",
       "      <td>POINT (-79.60227 43.75569)</td>\n",
       "    </tr>\n",
       "    <tr>\n",
       "      <th>12</th>\n",
       "      <td>GO-20141332021</td>\n",
       "      <td>2014-01-12T05:00:00</td>\n",
       "      <td>Apartment</td>\n",
       "      <td>2014</td>\n",
       "      <td>January</td>\n",
       "      <td>12</td>\n",
       "      <td>Assault</td>\n",
       "      <td>1</td>\n",
       "      <td>West Humber-Clairville</td>\n",
       "      <td>-79.602267</td>\n",
       "      <td>43.755689</td>\n",
       "      <td>13</td>\n",
       "      <td>POINT (-79.60227 43.75569)</td>\n",
       "    </tr>\n",
       "    <tr>\n",
       "      <th>13</th>\n",
       "      <td>GO-20141332404</td>\n",
       "      <td>2014-01-12T05:00:00</td>\n",
       "      <td>Outside</td>\n",
       "      <td>2014</td>\n",
       "      <td>January</td>\n",
       "      <td>12</td>\n",
       "      <td>Assault</td>\n",
       "      <td>1</td>\n",
       "      <td>West Humber-Clairville</td>\n",
       "      <td>-79.616890</td>\n",
       "      <td>43.723754</td>\n",
       "      <td>14</td>\n",
       "      <td>POINT (-79.61689 43.72375)</td>\n",
       "    </tr>\n",
       "  </tbody>\n",
       "</table>\n",
       "</div>"
      ],
      "text/plain": [
       "   event_unique_id       occurrencedate premises_type  occurrenceyear  \\\n",
       "0   GO-20141625305  2014-03-02T05:00:00         House            2014   \n",
       "4   GO-20141297201  2014-01-03T05:00:00    Commercial            2014   \n",
       "5   GO-20141302953  2014-01-08T05:00:00    Commercial            2014   \n",
       "6   GO-20141304312  2014-01-08T05:00:00         House            2014   \n",
       "7   GO-20141303907  2014-01-06T05:00:00    Commercial            2014   \n",
       "9   GO-20141319035  2014-01-10T05:00:00         House            2014   \n",
       "10  GO-20141328884  2014-01-12T05:00:00         Other            2014   \n",
       "11  GO-20141332021  2014-01-12T05:00:00     Apartment            2014   \n",
       "12  GO-20141332021  2014-01-12T05:00:00     Apartment            2014   \n",
       "13  GO-20141332404  2014-01-12T05:00:00       Outside            2014   \n",
       "\n",
       "   occurrencemonth  occurrenceday              MCI Hood_ID  \\\n",
       "0            March              2          Assault       1   \n",
       "4          January              3  Break and Enter       1   \n",
       "5          January              8       Theft Over       1   \n",
       "6          January              8  Break and Enter       1   \n",
       "7          January              6       Theft Over       1   \n",
       "9          January             10  Break and Enter       1   \n",
       "10         January             12          Assault       1   \n",
       "11         January             12          Assault       1   \n",
       "12         January             12          Assault       1   \n",
       "13         January             12          Assault       1   \n",
       "\n",
       "             Neighbourhood       Long        Lat  ObjectId  \\\n",
       "0   West Humber-Clairville -79.590332  43.734013         1   \n",
       "4   West Humber-Clairville -79.586443  43.697108         5   \n",
       "5   West Humber-Clairville -79.584931  43.678342         6   \n",
       "6   West Humber-Clairville -79.620043  43.722990         7   \n",
       "7   West Humber-Clairville -79.584931  43.678342         8   \n",
       "9   West Humber-Clairville -79.624434  43.728138        10   \n",
       "10  West Humber-Clairville -79.618214  43.732364        11   \n",
       "11  West Humber-Clairville -79.602267  43.755689        12   \n",
       "12  West Humber-Clairville -79.602267  43.755689        13   \n",
       "13  West Humber-Clairville -79.616890  43.723754        14   \n",
       "\n",
       "                      geometry  \n",
       "0   POINT (-79.59033 43.73401)  \n",
       "4   POINT (-79.58644 43.69711)  \n",
       "5   POINT (-79.58493 43.67834)  \n",
       "6   POINT (-79.62004 43.72299)  \n",
       "7   POINT (-79.58493 43.67834)  \n",
       "9   POINT (-79.62443 43.72814)  \n",
       "10  POINT (-79.61821 43.73236)  \n",
       "11  POINT (-79.60227 43.75569)  \n",
       "12  POINT (-79.60227 43.75569)  \n",
       "13  POINT (-79.61689 43.72375)  "
      ]
     },
     "execution_count": 14,
     "metadata": {},
     "output_type": "execute_result"
    }
   ],
   "source": [
    "# have a look at data\n",
    "crime.head(10)"
   ]
  },
  {
   "cell_type": "code",
   "execution_count": 15,
   "metadata": {},
   "outputs": [
    {
     "data": {
      "text/plain": [
       "(280320, 10)"
      ]
     },
     "execution_count": 15,
     "metadata": {},
     "output_type": "execute_result"
    }
   ],
   "source": [
    "# as occurencedate is a timestamp, we will keep this and remove occurenceyear, occurencemonth, and occurence day\n",
    "cols2drop2 = ['occurrenceyear', 'occurrencemonth', 'occurrenceday']\n",
    "for col in crime.columns:\n",
    "    if col in cols2drop2:\n",
    "        crime.drop(col, inplace=True, axis=1)\n",
    "        \n",
    "# confirm reduced dataframe\n",
    "crime.shape"
   ]
  },
  {
   "cell_type": "code",
   "execution_count": 16,
   "metadata": {},
   "outputs": [
    {
     "data": {
      "text/plain": [
       "geometry           0\n",
       "ObjectId           0\n",
       "Lat                0\n",
       "Long               0\n",
       "Neighbourhood      0\n",
       "Hood_ID            0\n",
       "MCI                0\n",
       "premises_type      0\n",
       "occurrencedate     0\n",
       "event_unique_id    0\n",
       "dtype: int64"
      ]
     },
     "execution_count": 16,
     "metadata": {},
     "output_type": "execute_result"
    }
   ],
   "source": [
    "# remove nulls and nans\n",
    "# count nulls by columns to identify if there are any problems\n",
    "crime.isnull().sum(axis=0).sort_values(ascending=False)"
   ]
  },
  {
   "cell_type": "code",
   "execution_count": 17,
   "metadata": {},
   "outputs": [
    {
     "data": {
      "text/plain": [
       "281691    0\n",
       "93861     0\n",
       "93855     0\n",
       "93856     0\n",
       "93857     0\n",
       "         ..\n",
       "187684    0\n",
       "187683    0\n",
       "187682    0\n",
       "187681    0\n",
       "0         0\n",
       "Length: 280320, dtype: int64"
      ]
     },
     "execution_count": 17,
     "metadata": {},
     "output_type": "execute_result"
    }
   ],
   "source": [
    "# count nulls by rows\n",
    "crime.isnull().sum(axis=1).sort_values(ascending=False)"
   ]
  },
  {
   "cell_type": "code",
   "execution_count": 18,
   "metadata": {},
   "outputs": [
    {
     "data": {
      "text/plain": [
       "geometry           0\n",
       "ObjectId           0\n",
       "Lat                0\n",
       "Long               0\n",
       "Neighbourhood      0\n",
       "Hood_ID            0\n",
       "MCI                0\n",
       "premises_type      0\n",
       "occurrencedate     0\n",
       "event_unique_id    0\n",
       "dtype: int64"
      ]
     },
     "execution_count": 18,
     "metadata": {},
     "output_type": "execute_result"
    }
   ],
   "source": [
    "# no null values - great!\n",
    "# now count nans by columns\n",
    "crime.isna().sum(axis=0).sort_values(ascending=False)"
   ]
  },
  {
   "cell_type": "code",
   "execution_count": 19,
   "metadata": {},
   "outputs": [
    {
     "data": {
      "text/plain": [
       "281691    0\n",
       "93861     0\n",
       "93855     0\n",
       "93856     0\n",
       "93857     0\n",
       "         ..\n",
       "187684    0\n",
       "187683    0\n",
       "187682    0\n",
       "187681    0\n",
       "0         0\n",
       "Length: 280320, dtype: int64"
      ]
     },
     "execution_count": 19,
     "metadata": {},
     "output_type": "execute_result"
    }
   ],
   "source": [
    "# count nans by rows\n",
    "crime.isna().sum(axis=1).sort_values(ascending=False)"
   ]
  },
  {
   "cell_type": "code",
   "execution_count": 20,
   "metadata": {},
   "outputs": [
    {
     "data": {
      "text/html": [
       "<div>\n",
       "<style scoped>\n",
       "    .dataframe tbody tr th:only-of-type {\n",
       "        vertical-align: middle;\n",
       "    }\n",
       "\n",
       "    .dataframe tbody tr th {\n",
       "        vertical-align: top;\n",
       "    }\n",
       "\n",
       "    .dataframe thead th {\n",
       "        text-align: right;\n",
       "    }\n",
       "</style>\n",
       "<table border=\"1\" class=\"dataframe\">\n",
       "  <thead>\n",
       "    <tr style=\"text-align: right;\">\n",
       "      <th></th>\n",
       "      <th>event_unique_id</th>\n",
       "      <th>occurrencedate</th>\n",
       "      <th>premises_type</th>\n",
       "      <th>MCI</th>\n",
       "      <th>Hood_ID</th>\n",
       "      <th>Neighbourhood</th>\n",
       "      <th>Long</th>\n",
       "      <th>Lat</th>\n",
       "      <th>ObjectId</th>\n",
       "      <th>geometry</th>\n",
       "    </tr>\n",
       "  </thead>\n",
       "  <tbody>\n",
       "    <tr>\n",
       "      <th>277000</th>\n",
       "      <td>GO-2016123990</td>\n",
       "      <td>2016-01-20T05:00:00</td>\n",
       "      <td>Other</td>\n",
       "      <td>Assault</td>\n",
       "      <td>NSA</td>\n",
       "      <td>NSA</td>\n",
       "      <td>0.000000</td>\n",
       "      <td>0.000000</td>\n",
       "      <td>277001</td>\n",
       "      <td>POINT (0.00000 0.00000)</td>\n",
       "    </tr>\n",
       "    <tr>\n",
       "      <th>277001</th>\n",
       "      <td>GO-2016134961</td>\n",
       "      <td>2016-01-23T05:00:00</td>\n",
       "      <td>Outside</td>\n",
       "      <td>Assault</td>\n",
       "      <td>NSA</td>\n",
       "      <td>NSA</td>\n",
       "      <td>0.000000</td>\n",
       "      <td>0.000000</td>\n",
       "      <td>277002</td>\n",
       "      <td>POINT (0.00000 0.00000)</td>\n",
       "    </tr>\n",
       "    <tr>\n",
       "      <th>277002</th>\n",
       "      <td>GO-2016137475</td>\n",
       "      <td>2016-01-23T05:00:00</td>\n",
       "      <td>Apartment</td>\n",
       "      <td>Assault</td>\n",
       "      <td>NSA</td>\n",
       "      <td>NSA</td>\n",
       "      <td>-79.747735</td>\n",
       "      <td>43.690595</td>\n",
       "      <td>277003</td>\n",
       "      <td>POINT (-79.74773 43.69059)</td>\n",
       "    </tr>\n",
       "    <tr>\n",
       "      <th>277003</th>\n",
       "      <td>GO-2016137475</td>\n",
       "      <td>2016-01-23T05:00:00</td>\n",
       "      <td>Apartment</td>\n",
       "      <td>Assault</td>\n",
       "      <td>NSA</td>\n",
       "      <td>NSA</td>\n",
       "      <td>-79.747735</td>\n",
       "      <td>43.690595</td>\n",
       "      <td>277004</td>\n",
       "      <td>POINT (-79.74773 43.69059)</td>\n",
       "    </tr>\n",
       "    <tr>\n",
       "      <th>277004</th>\n",
       "      <td>GO-2016139799</td>\n",
       "      <td>2016-01-24T05:00:00</td>\n",
       "      <td>Commercial</td>\n",
       "      <td>Assault</td>\n",
       "      <td>NSA</td>\n",
       "      <td>NSA</td>\n",
       "      <td>0.000000</td>\n",
       "      <td>0.000000</td>\n",
       "      <td>277005</td>\n",
       "      <td>POINT (0.00000 0.00000)</td>\n",
       "    </tr>\n",
       "    <tr>\n",
       "      <th>...</th>\n",
       "      <td>...</td>\n",
       "      <td>...</td>\n",
       "      <td>...</td>\n",
       "      <td>...</td>\n",
       "      <td>...</td>\n",
       "      <td>...</td>\n",
       "      <td>...</td>\n",
       "      <td>...</td>\n",
       "      <td>...</td>\n",
       "      <td>...</td>\n",
       "    </tr>\n",
       "    <tr>\n",
       "      <th>281687</th>\n",
       "      <td>GO-20212225907</td>\n",
       "      <td>2021-10-22T04:00:00</td>\n",
       "      <td>House</td>\n",
       "      <td>Break and Enter</td>\n",
       "      <td>NSA</td>\n",
       "      <td>NSA</td>\n",
       "      <td>-79.245151</td>\n",
       "      <td>43.838010</td>\n",
       "      <td>281688</td>\n",
       "      <td>POINT (-79.24515 43.83801)</td>\n",
       "    </tr>\n",
       "    <tr>\n",
       "      <th>281688</th>\n",
       "      <td>GO-20212226010</td>\n",
       "      <td>2021-10-08T04:00:00</td>\n",
       "      <td>House</td>\n",
       "      <td>Break and Enter</td>\n",
       "      <td>NSA</td>\n",
       "      <td>NSA</td>\n",
       "      <td>-79.286862</td>\n",
       "      <td>43.847594</td>\n",
       "      <td>281689</td>\n",
       "      <td>POINT (-79.28686 43.84759)</td>\n",
       "    </tr>\n",
       "    <tr>\n",
       "      <th>281689</th>\n",
       "      <td>GO-20212238042</td>\n",
       "      <td>2021-11-20T05:00:00</td>\n",
       "      <td>Apartment</td>\n",
       "      <td>Assault</td>\n",
       "      <td>NSA</td>\n",
       "      <td>NSA</td>\n",
       "      <td>-79.533763</td>\n",
       "      <td>43.931775</td>\n",
       "      <td>281690</td>\n",
       "      <td>POINT (-79.53376 43.93177)</td>\n",
       "    </tr>\n",
       "    <tr>\n",
       "      <th>281690</th>\n",
       "      <td>GO-20212240466</td>\n",
       "      <td>2021-11-18T05:00:00</td>\n",
       "      <td>House</td>\n",
       "      <td>Assault</td>\n",
       "      <td>NSA</td>\n",
       "      <td>NSA</td>\n",
       "      <td>0.000000</td>\n",
       "      <td>0.000000</td>\n",
       "      <td>281691</td>\n",
       "      <td>POINT (0.00000 0.00000)</td>\n",
       "    </tr>\n",
       "    <tr>\n",
       "      <th>281691</th>\n",
       "      <td>GO-20212242740</td>\n",
       "      <td>2021-11-21T05:00:00</td>\n",
       "      <td>Outside</td>\n",
       "      <td>Assault</td>\n",
       "      <td>NSA</td>\n",
       "      <td>NSA</td>\n",
       "      <td>0.000000</td>\n",
       "      <td>0.000000</td>\n",
       "      <td>281692</td>\n",
       "      <td>POINT (0.00000 0.00000)</td>\n",
       "    </tr>\n",
       "  </tbody>\n",
       "</table>\n",
       "<p>4549 rows × 10 columns</p>\n",
       "</div>"
      ],
      "text/plain": [
       "       event_unique_id       occurrencedate premises_type              MCI  \\\n",
       "277000   GO-2016123990  2016-01-20T05:00:00         Other          Assault   \n",
       "277001   GO-2016134961  2016-01-23T05:00:00       Outside          Assault   \n",
       "277002   GO-2016137475  2016-01-23T05:00:00     Apartment          Assault   \n",
       "277003   GO-2016137475  2016-01-23T05:00:00     Apartment          Assault   \n",
       "277004   GO-2016139799  2016-01-24T05:00:00    Commercial          Assault   \n",
       "...                ...                  ...           ...              ...   \n",
       "281687  GO-20212225907  2021-10-22T04:00:00         House  Break and Enter   \n",
       "281688  GO-20212226010  2021-10-08T04:00:00         House  Break and Enter   \n",
       "281689  GO-20212238042  2021-11-20T05:00:00     Apartment          Assault   \n",
       "281690  GO-20212240466  2021-11-18T05:00:00         House          Assault   \n",
       "281691  GO-20212242740  2021-11-21T05:00:00       Outside          Assault   \n",
       "\n",
       "       Hood_ID Neighbourhood       Long        Lat  ObjectId  \\\n",
       "277000     NSA           NSA   0.000000   0.000000    277001   \n",
       "277001     NSA           NSA   0.000000   0.000000    277002   \n",
       "277002     NSA           NSA -79.747735  43.690595    277003   \n",
       "277003     NSA           NSA -79.747735  43.690595    277004   \n",
       "277004     NSA           NSA   0.000000   0.000000    277005   \n",
       "...        ...           ...        ...        ...       ...   \n",
       "281687     NSA           NSA -79.245151  43.838010    281688   \n",
       "281688     NSA           NSA -79.286862  43.847594    281689   \n",
       "281689     NSA           NSA -79.533763  43.931775    281690   \n",
       "281690     NSA           NSA   0.000000   0.000000    281691   \n",
       "281691     NSA           NSA   0.000000   0.000000    281692   \n",
       "\n",
       "                          geometry  \n",
       "277000     POINT (0.00000 0.00000)  \n",
       "277001     POINT (0.00000 0.00000)  \n",
       "277002  POINT (-79.74773 43.69059)  \n",
       "277003  POINT (-79.74773 43.69059)  \n",
       "277004     POINT (0.00000 0.00000)  \n",
       "...                            ...  \n",
       "281687  POINT (-79.24515 43.83801)  \n",
       "281688  POINT (-79.28686 43.84759)  \n",
       "281689  POINT (-79.53376 43.93177)  \n",
       "281690     POINT (0.00000 0.00000)  \n",
       "281691     POINT (0.00000 0.00000)  \n",
       "\n",
       "[4549 rows x 10 columns]"
      ]
     },
     "execution_count": 20,
     "metadata": {},
     "output_type": "execute_result"
    }
   ],
   "source": [
    "# no nans - great!\n",
    "\n",
    "# Clean 2 - remove ‘NSA’ values from Hood_ID and Neighbourhood fields\n",
    "# we will identify and delete these as we are only concerned with occurences with identifiable locations\n",
    "crime.loc[crime['Hood_ID'] == 'NSA']"
   ]
  },
  {
   "cell_type": "code",
   "execution_count": 21,
   "metadata": {},
   "outputs": [
    {
     "data": {
      "text/html": [
       "<div>\n",
       "<style scoped>\n",
       "    .dataframe tbody tr th:only-of-type {\n",
       "        vertical-align: middle;\n",
       "    }\n",
       "\n",
       "    .dataframe tbody tr th {\n",
       "        vertical-align: top;\n",
       "    }\n",
       "\n",
       "    .dataframe thead th {\n",
       "        text-align: right;\n",
       "    }\n",
       "</style>\n",
       "<table border=\"1\" class=\"dataframe\">\n",
       "  <thead>\n",
       "    <tr style=\"text-align: right;\">\n",
       "      <th></th>\n",
       "      <th>event_unique_id</th>\n",
       "      <th>occurrencedate</th>\n",
       "      <th>premises_type</th>\n",
       "      <th>MCI</th>\n",
       "      <th>Hood_ID</th>\n",
       "      <th>Neighbourhood</th>\n",
       "      <th>Long</th>\n",
       "      <th>Lat</th>\n",
       "      <th>ObjectId</th>\n",
       "      <th>geometry</th>\n",
       "    </tr>\n",
       "  </thead>\n",
       "  <tbody>\n",
       "    <tr>\n",
       "      <th>277000</th>\n",
       "      <td>GO-2016123990</td>\n",
       "      <td>2016-01-20T05:00:00</td>\n",
       "      <td>Other</td>\n",
       "      <td>Assault</td>\n",
       "      <td>NSA</td>\n",
       "      <td>NSA</td>\n",
       "      <td>0.000000</td>\n",
       "      <td>0.000000</td>\n",
       "      <td>277001</td>\n",
       "      <td>POINT (0.00000 0.00000)</td>\n",
       "    </tr>\n",
       "    <tr>\n",
       "      <th>277001</th>\n",
       "      <td>GO-2016134961</td>\n",
       "      <td>2016-01-23T05:00:00</td>\n",
       "      <td>Outside</td>\n",
       "      <td>Assault</td>\n",
       "      <td>NSA</td>\n",
       "      <td>NSA</td>\n",
       "      <td>0.000000</td>\n",
       "      <td>0.000000</td>\n",
       "      <td>277002</td>\n",
       "      <td>POINT (0.00000 0.00000)</td>\n",
       "    </tr>\n",
       "    <tr>\n",
       "      <th>277002</th>\n",
       "      <td>GO-2016137475</td>\n",
       "      <td>2016-01-23T05:00:00</td>\n",
       "      <td>Apartment</td>\n",
       "      <td>Assault</td>\n",
       "      <td>NSA</td>\n",
       "      <td>NSA</td>\n",
       "      <td>-79.747735</td>\n",
       "      <td>43.690595</td>\n",
       "      <td>277003</td>\n",
       "      <td>POINT (-79.74773 43.69059)</td>\n",
       "    </tr>\n",
       "    <tr>\n",
       "      <th>277003</th>\n",
       "      <td>GO-2016137475</td>\n",
       "      <td>2016-01-23T05:00:00</td>\n",
       "      <td>Apartment</td>\n",
       "      <td>Assault</td>\n",
       "      <td>NSA</td>\n",
       "      <td>NSA</td>\n",
       "      <td>-79.747735</td>\n",
       "      <td>43.690595</td>\n",
       "      <td>277004</td>\n",
       "      <td>POINT (-79.74773 43.69059)</td>\n",
       "    </tr>\n",
       "    <tr>\n",
       "      <th>277004</th>\n",
       "      <td>GO-2016139799</td>\n",
       "      <td>2016-01-24T05:00:00</td>\n",
       "      <td>Commercial</td>\n",
       "      <td>Assault</td>\n",
       "      <td>NSA</td>\n",
       "      <td>NSA</td>\n",
       "      <td>0.000000</td>\n",
       "      <td>0.000000</td>\n",
       "      <td>277005</td>\n",
       "      <td>POINT (0.00000 0.00000)</td>\n",
       "    </tr>\n",
       "    <tr>\n",
       "      <th>...</th>\n",
       "      <td>...</td>\n",
       "      <td>...</td>\n",
       "      <td>...</td>\n",
       "      <td>...</td>\n",
       "      <td>...</td>\n",
       "      <td>...</td>\n",
       "      <td>...</td>\n",
       "      <td>...</td>\n",
       "      <td>...</td>\n",
       "      <td>...</td>\n",
       "    </tr>\n",
       "    <tr>\n",
       "      <th>281687</th>\n",
       "      <td>GO-20212225907</td>\n",
       "      <td>2021-10-22T04:00:00</td>\n",
       "      <td>House</td>\n",
       "      <td>Break and Enter</td>\n",
       "      <td>NSA</td>\n",
       "      <td>NSA</td>\n",
       "      <td>-79.245151</td>\n",
       "      <td>43.838010</td>\n",
       "      <td>281688</td>\n",
       "      <td>POINT (-79.24515 43.83801)</td>\n",
       "    </tr>\n",
       "    <tr>\n",
       "      <th>281688</th>\n",
       "      <td>GO-20212226010</td>\n",
       "      <td>2021-10-08T04:00:00</td>\n",
       "      <td>House</td>\n",
       "      <td>Break and Enter</td>\n",
       "      <td>NSA</td>\n",
       "      <td>NSA</td>\n",
       "      <td>-79.286862</td>\n",
       "      <td>43.847594</td>\n",
       "      <td>281689</td>\n",
       "      <td>POINT (-79.28686 43.84759)</td>\n",
       "    </tr>\n",
       "    <tr>\n",
       "      <th>281689</th>\n",
       "      <td>GO-20212238042</td>\n",
       "      <td>2021-11-20T05:00:00</td>\n",
       "      <td>Apartment</td>\n",
       "      <td>Assault</td>\n",
       "      <td>NSA</td>\n",
       "      <td>NSA</td>\n",
       "      <td>-79.533763</td>\n",
       "      <td>43.931775</td>\n",
       "      <td>281690</td>\n",
       "      <td>POINT (-79.53376 43.93177)</td>\n",
       "    </tr>\n",
       "    <tr>\n",
       "      <th>281690</th>\n",
       "      <td>GO-20212240466</td>\n",
       "      <td>2021-11-18T05:00:00</td>\n",
       "      <td>House</td>\n",
       "      <td>Assault</td>\n",
       "      <td>NSA</td>\n",
       "      <td>NSA</td>\n",
       "      <td>0.000000</td>\n",
       "      <td>0.000000</td>\n",
       "      <td>281691</td>\n",
       "      <td>POINT (0.00000 0.00000)</td>\n",
       "    </tr>\n",
       "    <tr>\n",
       "      <th>281691</th>\n",
       "      <td>GO-20212242740</td>\n",
       "      <td>2021-11-21T05:00:00</td>\n",
       "      <td>Outside</td>\n",
       "      <td>Assault</td>\n",
       "      <td>NSA</td>\n",
       "      <td>NSA</td>\n",
       "      <td>0.000000</td>\n",
       "      <td>0.000000</td>\n",
       "      <td>281692</td>\n",
       "      <td>POINT (0.00000 0.00000)</td>\n",
       "    </tr>\n",
       "  </tbody>\n",
       "</table>\n",
       "<p>4549 rows × 10 columns</p>\n",
       "</div>"
      ],
      "text/plain": [
       "       event_unique_id       occurrencedate premises_type              MCI  \\\n",
       "277000   GO-2016123990  2016-01-20T05:00:00         Other          Assault   \n",
       "277001   GO-2016134961  2016-01-23T05:00:00       Outside          Assault   \n",
       "277002   GO-2016137475  2016-01-23T05:00:00     Apartment          Assault   \n",
       "277003   GO-2016137475  2016-01-23T05:00:00     Apartment          Assault   \n",
       "277004   GO-2016139799  2016-01-24T05:00:00    Commercial          Assault   \n",
       "...                ...                  ...           ...              ...   \n",
       "281687  GO-20212225907  2021-10-22T04:00:00         House  Break and Enter   \n",
       "281688  GO-20212226010  2021-10-08T04:00:00         House  Break and Enter   \n",
       "281689  GO-20212238042  2021-11-20T05:00:00     Apartment          Assault   \n",
       "281690  GO-20212240466  2021-11-18T05:00:00         House          Assault   \n",
       "281691  GO-20212242740  2021-11-21T05:00:00       Outside          Assault   \n",
       "\n",
       "       Hood_ID Neighbourhood       Long        Lat  ObjectId  \\\n",
       "277000     NSA           NSA   0.000000   0.000000    277001   \n",
       "277001     NSA           NSA   0.000000   0.000000    277002   \n",
       "277002     NSA           NSA -79.747735  43.690595    277003   \n",
       "277003     NSA           NSA -79.747735  43.690595    277004   \n",
       "277004     NSA           NSA   0.000000   0.000000    277005   \n",
       "...        ...           ...        ...        ...       ...   \n",
       "281687     NSA           NSA -79.245151  43.838010    281688   \n",
       "281688     NSA           NSA -79.286862  43.847594    281689   \n",
       "281689     NSA           NSA -79.533763  43.931775    281690   \n",
       "281690     NSA           NSA   0.000000   0.000000    281691   \n",
       "281691     NSA           NSA   0.000000   0.000000    281692   \n",
       "\n",
       "                          geometry  \n",
       "277000     POINT (0.00000 0.00000)  \n",
       "277001     POINT (0.00000 0.00000)  \n",
       "277002  POINT (-79.74773 43.69059)  \n",
       "277003  POINT (-79.74773 43.69059)  \n",
       "277004     POINT (0.00000 0.00000)  \n",
       "...                            ...  \n",
       "281687  POINT (-79.24515 43.83801)  \n",
       "281688  POINT (-79.28686 43.84759)  \n",
       "281689  POINT (-79.53376 43.93177)  \n",
       "281690     POINT (0.00000 0.00000)  \n",
       "281691     POINT (0.00000 0.00000)  \n",
       "\n",
       "[4549 rows x 10 columns]"
      ]
     },
     "execution_count": 21,
     "metadata": {},
     "output_type": "execute_result"
    }
   ],
   "source": [
    "# it seems that when 'Hood_ID' == NSA, 'Neighbourhood' is also NSA, let's check to see if we get the same results\n",
    "crime.loc[crime['Neighbourhood'] == 'NSA']"
   ]
  },
  {
   "cell_type": "code",
   "execution_count": 22,
   "metadata": {},
   "outputs": [
    {
     "data": {
      "text/plain": [
       "(275771, 10)"
      ]
     },
     "execution_count": 22,
     "metadata": {},
     "output_type": "execute_result"
    }
   ],
   "source": [
    "# they match! we will delete these\n",
    "crime = crime[crime.Hood_ID != 'NSA']\n",
    "crime = crime[crime.Neighbourhood != 'NSA']\n",
    "\n",
    "# confirm reduced dataframe\n",
    "crime.shape"
   ]
  },
  {
   "cell_type": "code",
   "execution_count": 23,
   "metadata": {},
   "outputs": [
    {
     "name": "stdout",
     "output_type": "stream",
     "text": [
      "140\n",
      "140\n"
     ]
    }
   ],
   "source": [
    "# count unique values of neighbourhood fields\n",
    "count1 = crime.Hood_ID.nunique()\n",
    "count2 = crime.Neighbourhood.nunique()\n",
    "print(count1)\n",
    "print(count2)"
   ]
  },
  {
   "cell_type": "code",
   "execution_count": 24,
   "metadata": {},
   "outputs": [
    {
     "data": {
      "text/html": [
       "<div>\n",
       "<style scoped>\n",
       "    .dataframe tbody tr th:only-of-type {\n",
       "        vertical-align: middle;\n",
       "    }\n",
       "\n",
       "    .dataframe tbody tr th {\n",
       "        vertical-align: top;\n",
       "    }\n",
       "\n",
       "    .dataframe thead th {\n",
       "        text-align: right;\n",
       "    }\n",
       "</style>\n",
       "<table border=\"1\" class=\"dataframe\">\n",
       "  <thead>\n",
       "    <tr style=\"text-align: right;\">\n",
       "      <th></th>\n",
       "      <th>Long</th>\n",
       "      <th>Lat</th>\n",
       "    </tr>\n",
       "  </thead>\n",
       "  <tbody>\n",
       "    <tr>\n",
       "      <th>count</th>\n",
       "      <td>275771.000000</td>\n",
       "      <td>275771.000000</td>\n",
       "    </tr>\n",
       "    <tr>\n",
       "      <th>mean</th>\n",
       "      <td>-79.316305</td>\n",
       "      <td>43.662853</td>\n",
       "    </tr>\n",
       "    <tr>\n",
       "      <th>std</th>\n",
       "      <td>2.517174</td>\n",
       "      <td>1.385511</td>\n",
       "    </tr>\n",
       "    <tr>\n",
       "      <th>min</th>\n",
       "      <td>-79.639225</td>\n",
       "      <td>0.000000</td>\n",
       "    </tr>\n",
       "    <tr>\n",
       "      <th>25%</th>\n",
       "      <td>-79.471427</td>\n",
       "      <td>43.660791</td>\n",
       "    </tr>\n",
       "    <tr>\n",
       "      <th>50%</th>\n",
       "      <td>-79.393820</td>\n",
       "      <td>43.700160</td>\n",
       "    </tr>\n",
       "    <tr>\n",
       "      <th>75%</th>\n",
       "      <td>-79.324129</td>\n",
       "      <td>43.751394</td>\n",
       "    </tr>\n",
       "    <tr>\n",
       "      <th>max</th>\n",
       "      <td>0.000000</td>\n",
       "      <td>43.853752</td>\n",
       "    </tr>\n",
       "  </tbody>\n",
       "</table>\n",
       "</div>"
      ],
      "text/plain": [
       "                Long            Lat\n",
       "count  275771.000000  275771.000000\n",
       "mean      -79.316305      43.662853\n",
       "std         2.517174       1.385511\n",
       "min       -79.639225       0.000000\n",
       "25%       -79.471427      43.660791\n",
       "50%       -79.393820      43.700160\n",
       "75%       -79.324129      43.751394\n",
       "max         0.000000      43.853752"
      ]
     },
     "execution_count": 24,
     "metadata": {},
     "output_type": "execute_result"
    }
   ],
   "source": [
    "# they match!\n",
    "\n",
    "# Clean 2 - from above, we can see some POINTs are (0,0) \n",
    "# let's check lat and long fields for outliers\n",
    "location = crime[['Long', 'Lat']]\n",
    "location.describe()"
   ]
  },
  {
   "cell_type": "code",
   "execution_count": 25,
   "metadata": {},
   "outputs": [
    {
     "name": "stdout",
     "output_type": "stream",
     "text": [
      "277\n",
      "275771\n"
     ]
    }
   ],
   "source": [
    "# min in the lat field is showing as 0 which is definitely not in Toronto\n",
    "\n",
    "# let's check how many values are equal to 0\n",
    "print((crime['Lat'] == 0).sum())\n",
    "\n",
    "# vs. all values\n",
    "print((crime['Lat']).count())"
   ]
  },
  {
   "cell_type": "code",
   "execution_count": 26,
   "metadata": {},
   "outputs": [
    {
     "data": {
      "text/html": [
       "<div>\n",
       "<style scoped>\n",
       "    .dataframe tbody tr th:only-of-type {\n",
       "        vertical-align: middle;\n",
       "    }\n",
       "\n",
       "    .dataframe tbody tr th {\n",
       "        vertical-align: top;\n",
       "    }\n",
       "\n",
       "    .dataframe thead th {\n",
       "        text-align: right;\n",
       "    }\n",
       "</style>\n",
       "<table border=\"1\" class=\"dataframe\">\n",
       "  <thead>\n",
       "    <tr style=\"text-align: right;\">\n",
       "      <th></th>\n",
       "      <th>Long</th>\n",
       "      <th>Lat</th>\n",
       "    </tr>\n",
       "  </thead>\n",
       "  <tbody>\n",
       "    <tr>\n",
       "      <th>count</th>\n",
       "      <td>275494.000000</td>\n",
       "      <td>275494.000000</td>\n",
       "    </tr>\n",
       "    <tr>\n",
       "      <th>mean</th>\n",
       "      <td>-79.396055</td>\n",
       "      <td>43.706754</td>\n",
       "    </tr>\n",
       "    <tr>\n",
       "      <th>std</th>\n",
       "      <td>0.103366</td>\n",
       "      <td>0.052624</td>\n",
       "    </tr>\n",
       "    <tr>\n",
       "      <th>min</th>\n",
       "      <td>-79.639225</td>\n",
       "      <td>43.587092</td>\n",
       "    </tr>\n",
       "    <tr>\n",
       "      <th>25%</th>\n",
       "      <td>-79.471439</td>\n",
       "      <td>43.660816</td>\n",
       "    </tr>\n",
       "    <tr>\n",
       "      <th>50%</th>\n",
       "      <td>-79.393889</td>\n",
       "      <td>43.700313</td>\n",
       "    </tr>\n",
       "    <tr>\n",
       "      <th>75%</th>\n",
       "      <td>-79.324574</td>\n",
       "      <td>43.751440</td>\n",
       "    </tr>\n",
       "    <tr>\n",
       "      <th>max</th>\n",
       "      <td>-79.123062</td>\n",
       "      <td>43.853752</td>\n",
       "    </tr>\n",
       "  </tbody>\n",
       "</table>\n",
       "</div>"
      ],
      "text/plain": [
       "                Long            Lat\n",
       "count  275494.000000  275494.000000\n",
       "mean      -79.396055      43.706754\n",
       "std         0.103366       0.052624\n",
       "min       -79.639225      43.587092\n",
       "25%       -79.471439      43.660816\n",
       "50%       -79.393889      43.700313\n",
       "75%       -79.324574      43.751440\n",
       "max       -79.123062      43.853752"
      ]
     },
     "execution_count": 26,
     "metadata": {},
     "output_type": "execute_result"
    }
   ],
   "source": [
    "# delete 277 crime events outside Toronto\n",
    "crime = crime[crime.Lat != 0]\n",
    "\n",
    "# check values again\n",
    "location2 = crime[['Long', 'Lat']]\n",
    "location2.describe()"
   ]
  },
  {
   "cell_type": "code",
   "execution_count": 27,
   "metadata": {},
   "outputs": [
    {
     "name": "stdout",
     "output_type": "stream",
     "text": [
      "['event_unique_id', 'occurrencedate', 'premises_type', 'MCI', 'Hood_ID', 'Neighbourhood', 'ObjectId', 'geometry']\n"
     ]
    }
   ],
   "source": [
    "# that fixed the problem!\n",
    "\n",
    "# we can now delete Long and Lat columns\n",
    "cols2drop3 = ['Long', 'Lat']\n",
    "\n",
    "for col in crime.columns:\n",
    "    if col in cols2drop3:\n",
    "        crime.drop(col, inplace=True, axis=1)\n",
    "        \n",
    "# confirm removal - makes copying text for later steps easier\n",
    "print(list(crime.columns.values))"
   ]
  },
  {
   "cell_type": "code",
   "execution_count": 28,
   "metadata": {},
   "outputs": [
    {
     "data": {
      "text/plain": [
       "(275494, 8)"
      ]
     },
     "execution_count": 28,
     "metadata": {},
     "output_type": "execute_result"
    }
   ],
   "source": [
    "# check dataframe again\n",
    "crime.shape"
   ]
  },
  {
   "cell_type": "code",
   "execution_count": 29,
   "metadata": {},
   "outputs": [
    {
     "name": "stdout",
     "output_type": "stream",
     "text": [
      "239948\n",
      "275494\n"
     ]
    }
   ],
   "source": [
    "# Clean 4 - we have 275494 crime events, let's check count of unique values of id fields compared to rows\n",
    "count3 = crime.event_unique_id.nunique()\n",
    "count4 = crime.ObjectId.nunique()\n",
    "print(count3)\n",
    "print(count4)"
   ]
  },
  {
   "cell_type": "code",
   "execution_count": 30,
   "metadata": {},
   "outputs": [
    {
     "name": "stdout",
     "output_type": "stream",
     "text": [
      "['occurrencedate', 'premises_type', 'MCI', 'Hood_ID', 'Neighbourhood', 'ObjectId', 'geometry']\n"
     ]
    }
   ],
   "source": [
    "# the event_unique_id field has duplicate values, whereas the ObjectID field has a unique value for every row\n",
    "# as per documentation one event can have mutliple crime types - for example, a single event could have both an assault and a theft\n",
    "# for our purposes, we want to ensure we count each crime type seperately\n",
    "# we will delete the event_unique_id field and keep the ObjectId field\n",
    "cols2drop4 = ['event_unique_id']\n",
    "\n",
    "for col in crime.columns:\n",
    "    if col in cols2drop4:\n",
    "        crime.drop(col, inplace=True, axis=1)\n",
    "        \n",
    "# confirm removal - makes copying text for later steps easier\n",
    "print(list(crime.columns.values))"
   ]
  },
  {
   "cell_type": "code",
   "execution_count": 31,
   "metadata": {},
   "outputs": [
    {
     "name": "stdout",
     "output_type": "stream",
     "text": [
      "<class 'geopandas.geodataframe.GeoDataFrame'>\n",
      "Int64Index: 275494 entries, 0 to 277185\n",
      "Data columns (total 7 columns):\n",
      " #   Column          Non-Null Count   Dtype   \n",
      "---  ------          --------------   -----   \n",
      " 0   occurrencedate  275494 non-null  object  \n",
      " 1   premises_type   275494 non-null  object  \n",
      " 2   MCI             275494 non-null  object  \n",
      " 3   Hood_ID         275494 non-null  object  \n",
      " 4   Neighbourhood   275494 non-null  object  \n",
      " 5   ObjectId        275494 non-null  int64   \n",
      " 6   geometry        275494 non-null  geometry\n",
      "dtypes: geometry(1), int64(1), object(5)\n",
      "memory usage: 16.8+ MB\n"
     ]
    }
   ],
   "source": [
    "# check dataframe again\n",
    "crime.info()"
   ]
  },
  {
   "cell_type": "code",
   "execution_count": 32,
   "metadata": {},
   "outputs": [],
   "source": [
    "# convert data types\n",
    "for c in ['premises_type','MCI','Neighbourhood']:\n",
    "    crime[c] = crime[c].astype('category')\n",
    "for c in ['Hood_ID']:\n",
    "    crime[c] = crime[c].astype('int')\n",
    "\n",
    "# convert to datetime\n",
    "crime['TimeSeries'] = pd.to_datetime(crime.occurrencedate.values, infer_datetime_format=True)"
   ]
  },
  {
   "cell_type": "code",
   "execution_count": 33,
   "metadata": {},
   "outputs": [
    {
     "name": "stdout",
     "output_type": "stream",
     "text": [
      "<class 'geopandas.geodataframe.GeoDataFrame'>\n",
      "Int64Index: 275494 entries, 0 to 277185\n",
      "Data columns (total 8 columns):\n",
      " #   Column          Non-Null Count   Dtype         \n",
      "---  ------          --------------   -----         \n",
      " 0   occurrencedate  275494 non-null  object        \n",
      " 1   premises_type   275494 non-null  category      \n",
      " 2   MCI             275494 non-null  category      \n",
      " 3   Hood_ID         275494 non-null  int64         \n",
      " 4   Neighbourhood   275494 non-null  category      \n",
      " 5   ObjectId        275494 non-null  int64         \n",
      " 6   geometry        275494 non-null  geometry      \n",
      " 7   TimeSeries      275494 non-null  datetime64[ns]\n",
      "dtypes: category(3), datetime64[ns](1), geometry(1), int64(2), object(1)\n",
      "memory usage: 13.7+ MB\n"
     ]
    }
   ],
   "source": [
    "# confirm changes\n",
    "crime.info()"
   ]
  },
  {
   "cell_type": "code",
   "execution_count": 34,
   "metadata": {},
   "outputs": [
    {
     "data": {
      "text/plain": [
       "0   2014-03-02 05:00:00\n",
       "4   2014-01-03 05:00:00\n",
       "5   2014-01-08 05:00:00\n",
       "6   2014-01-08 05:00:00\n",
       "7   2014-01-06 05:00:00\n",
       "Name: TimeSeries, dtype: datetime64[ns]"
      ]
     },
     "execution_count": 34,
     "metadata": {},
     "output_type": "execute_result"
    }
   ],
   "source": [
    "crime.TimeSeries.head()"
   ]
  },
  {
   "cell_type": "markdown",
   "metadata": {},
   "source": [
    "### Enrich Crime Data"
   ]
  },
  {
   "cell_type": "code",
   "execution_count": 35,
   "metadata": {},
   "outputs": [
    {
     "data": {
      "text/html": [
       "<div>\n",
       "<style scoped>\n",
       "    .dataframe tbody tr th:only-of-type {\n",
       "        vertical-align: middle;\n",
       "    }\n",
       "\n",
       "    .dataframe tbody tr th {\n",
       "        vertical-align: top;\n",
       "    }\n",
       "\n",
       "    .dataframe thead th {\n",
       "        text-align: right;\n",
       "    }\n",
       "</style>\n",
       "<table border=\"1\" class=\"dataframe\">\n",
       "  <thead>\n",
       "    <tr style=\"text-align: right;\">\n",
       "      <th></th>\n",
       "      <th>occurrencedate</th>\n",
       "      <th>premises_type</th>\n",
       "      <th>MCI</th>\n",
       "      <th>Hood_ID</th>\n",
       "      <th>Neighbourhood</th>\n",
       "      <th>ObjectId</th>\n",
       "      <th>geometry</th>\n",
       "      <th>TimeSeries</th>\n",
       "      <th>lockdownNo</th>\n",
       "    </tr>\n",
       "  </thead>\n",
       "  <tbody>\n",
       "    <tr>\n",
       "      <th>0</th>\n",
       "      <td>2014-03-02T05:00:00</td>\n",
       "      <td>House</td>\n",
       "      <td>Assault</td>\n",
       "      <td>1</td>\n",
       "      <td>West Humber-Clairville</td>\n",
       "      <td>1</td>\n",
       "      <td>POINT (-79.59033 43.73401)</td>\n",
       "      <td>2014-03-02 05:00:00</td>\n",
       "      <td>NaN</td>\n",
       "    </tr>\n",
       "    <tr>\n",
       "      <th>4</th>\n",
       "      <td>2014-01-03T05:00:00</td>\n",
       "      <td>Commercial</td>\n",
       "      <td>Break and Enter</td>\n",
       "      <td>1</td>\n",
       "      <td>West Humber-Clairville</td>\n",
       "      <td>5</td>\n",
       "      <td>POINT (-79.58644 43.69711)</td>\n",
       "      <td>2014-01-03 05:00:00</td>\n",
       "      <td>NaN</td>\n",
       "    </tr>\n",
       "    <tr>\n",
       "      <th>5</th>\n",
       "      <td>2014-01-08T05:00:00</td>\n",
       "      <td>Commercial</td>\n",
       "      <td>Theft Over</td>\n",
       "      <td>1</td>\n",
       "      <td>West Humber-Clairville</td>\n",
       "      <td>6</td>\n",
       "      <td>POINT (-79.58493 43.67834)</td>\n",
       "      <td>2014-01-08 05:00:00</td>\n",
       "      <td>NaN</td>\n",
       "    </tr>\n",
       "    <tr>\n",
       "      <th>6</th>\n",
       "      <td>2014-01-08T05:00:00</td>\n",
       "      <td>House</td>\n",
       "      <td>Break and Enter</td>\n",
       "      <td>1</td>\n",
       "      <td>West Humber-Clairville</td>\n",
       "      <td>7</td>\n",
       "      <td>POINT (-79.62004 43.72299)</td>\n",
       "      <td>2014-01-08 05:00:00</td>\n",
       "      <td>NaN</td>\n",
       "    </tr>\n",
       "    <tr>\n",
       "      <th>7</th>\n",
       "      <td>2014-01-06T05:00:00</td>\n",
       "      <td>Commercial</td>\n",
       "      <td>Theft Over</td>\n",
       "      <td>1</td>\n",
       "      <td>West Humber-Clairville</td>\n",
       "      <td>8</td>\n",
       "      <td>POINT (-79.58493 43.67834)</td>\n",
       "      <td>2014-01-06 05:00:00</td>\n",
       "      <td>NaN</td>\n",
       "    </tr>\n",
       "  </tbody>\n",
       "</table>\n",
       "</div>"
      ],
      "text/plain": [
       "        occurrencedate premises_type              MCI  Hood_ID  \\\n",
       "0  2014-03-02T05:00:00         House          Assault        1   \n",
       "4  2014-01-03T05:00:00    Commercial  Break and Enter        1   \n",
       "5  2014-01-08T05:00:00    Commercial       Theft Over        1   \n",
       "6  2014-01-08T05:00:00         House  Break and Enter        1   \n",
       "7  2014-01-06T05:00:00    Commercial       Theft Over        1   \n",
       "\n",
       "            Neighbourhood  ObjectId                    geometry  \\\n",
       "0  West Humber-Clairville         1  POINT (-79.59033 43.73401)   \n",
       "4  West Humber-Clairville         5  POINT (-79.58644 43.69711)   \n",
       "5  West Humber-Clairville         6  POINT (-79.58493 43.67834)   \n",
       "6  West Humber-Clairville         7  POINT (-79.62004 43.72299)   \n",
       "7  West Humber-Clairville         8  POINT (-79.58493 43.67834)   \n",
       "\n",
       "           TimeSeries lockdownNo  \n",
       "0 2014-03-02 05:00:00        NaN  \n",
       "4 2014-01-03 05:00:00        NaN  \n",
       "5 2014-01-08 05:00:00        NaN  \n",
       "6 2014-01-08 05:00:00        NaN  \n",
       "7 2014-01-06 05:00:00        NaN  "
      ]
     },
     "execution_count": 35,
     "metadata": {},
     "output_type": "execute_result"
    }
   ],
   "source": [
    "# as we are completing an analysis of the impact of COVID-19 lockdowns on crime, we will add an additonal column for lockdown information\n",
    "# from research we know that Toronto had three lockdowns as follows:\n",
    "\n",
    "lockdowns = {'first':['2020-03-23','2020-07-31'],\n",
    "             'second':['2020-11-23','2021-03-08'],\n",
    "             'third':['2021-04-08','2021-06-02']}\n",
    "\n",
    "for k, (s,e) in lockdowns.items():\n",
    "    crime.loc[crime['TimeSeries'].between(s,e), 'lockdownNo'] = k\n",
    "\n",
    "crime.head()"
   ]
  },
  {
   "cell_type": "code",
   "execution_count": 36,
   "metadata": {},
   "outputs": [
    {
     "data": {
      "text/plain": [
       "none      250721\n",
       "first      11542\n",
       "second      8412\n",
       "third       4819\n",
       "Name: lockdownNo, dtype: int64"
      ]
     },
     "execution_count": 36,
     "metadata": {},
     "output_type": "execute_result"
    }
   ],
   "source": [
    "# replace NaN values in lockdownNum field with NONE (no lockdown)\n",
    "crime['lockdownNo'] = crime['lockdownNo'].fillna('none')\n",
    "\n",
    "# check revised number of occurrences by lockdownNum\n",
    "crime.lockdownNo.value_counts()"
   ]
  },
  {
   "cell_type": "code",
   "execution_count": 37,
   "metadata": {},
   "outputs": [
    {
     "data": {
      "text/html": [
       "<div>\n",
       "<style scoped>\n",
       "    .dataframe tbody tr th:only-of-type {\n",
       "        vertical-align: middle;\n",
       "    }\n",
       "\n",
       "    .dataframe tbody tr th {\n",
       "        vertical-align: top;\n",
       "    }\n",
       "\n",
       "    .dataframe thead th {\n",
       "        text-align: right;\n",
       "    }\n",
       "</style>\n",
       "<table border=\"1\" class=\"dataframe\">\n",
       "  <thead>\n",
       "    <tr style=\"text-align: right;\">\n",
       "      <th></th>\n",
       "      <th>occurrencedate</th>\n",
       "      <th>premises_type</th>\n",
       "      <th>MCI</th>\n",
       "      <th>Hood_ID</th>\n",
       "      <th>Neighbourhood</th>\n",
       "      <th>ObjectId</th>\n",
       "      <th>geometry</th>\n",
       "      <th>TimeSeries</th>\n",
       "      <th>lockdownNo</th>\n",
       "      <th>lockdownStatus</th>\n",
       "    </tr>\n",
       "  </thead>\n",
       "  <tbody>\n",
       "    <tr>\n",
       "      <th>0</th>\n",
       "      <td>2014-03-02T05:00:00</td>\n",
       "      <td>House</td>\n",
       "      <td>Assault</td>\n",
       "      <td>1</td>\n",
       "      <td>West Humber-Clairville</td>\n",
       "      <td>1</td>\n",
       "      <td>POINT (-79.59033 43.73401)</td>\n",
       "      <td>2014-03-02 05:00:00</td>\n",
       "      <td>none</td>\n",
       "      <td>0</td>\n",
       "    </tr>\n",
       "    <tr>\n",
       "      <th>4</th>\n",
       "      <td>2014-01-03T05:00:00</td>\n",
       "      <td>Commercial</td>\n",
       "      <td>Break and Enter</td>\n",
       "      <td>1</td>\n",
       "      <td>West Humber-Clairville</td>\n",
       "      <td>5</td>\n",
       "      <td>POINT (-79.58644 43.69711)</td>\n",
       "      <td>2014-01-03 05:00:00</td>\n",
       "      <td>none</td>\n",
       "      <td>0</td>\n",
       "    </tr>\n",
       "    <tr>\n",
       "      <th>5</th>\n",
       "      <td>2014-01-08T05:00:00</td>\n",
       "      <td>Commercial</td>\n",
       "      <td>Theft Over</td>\n",
       "      <td>1</td>\n",
       "      <td>West Humber-Clairville</td>\n",
       "      <td>6</td>\n",
       "      <td>POINT (-79.58493 43.67834)</td>\n",
       "      <td>2014-01-08 05:00:00</td>\n",
       "      <td>none</td>\n",
       "      <td>0</td>\n",
       "    </tr>\n",
       "    <tr>\n",
       "      <th>6</th>\n",
       "      <td>2014-01-08T05:00:00</td>\n",
       "      <td>House</td>\n",
       "      <td>Break and Enter</td>\n",
       "      <td>1</td>\n",
       "      <td>West Humber-Clairville</td>\n",
       "      <td>7</td>\n",
       "      <td>POINT (-79.62004 43.72299)</td>\n",
       "      <td>2014-01-08 05:00:00</td>\n",
       "      <td>none</td>\n",
       "      <td>0</td>\n",
       "    </tr>\n",
       "    <tr>\n",
       "      <th>7</th>\n",
       "      <td>2014-01-06T05:00:00</td>\n",
       "      <td>Commercial</td>\n",
       "      <td>Theft Over</td>\n",
       "      <td>1</td>\n",
       "      <td>West Humber-Clairville</td>\n",
       "      <td>8</td>\n",
       "      <td>POINT (-79.58493 43.67834)</td>\n",
       "      <td>2014-01-06 05:00:00</td>\n",
       "      <td>none</td>\n",
       "      <td>0</td>\n",
       "    </tr>\n",
       "  </tbody>\n",
       "</table>\n",
       "</div>"
      ],
      "text/plain": [
       "        occurrencedate premises_type              MCI  Hood_ID  \\\n",
       "0  2014-03-02T05:00:00         House          Assault        1   \n",
       "4  2014-01-03T05:00:00    Commercial  Break and Enter        1   \n",
       "5  2014-01-08T05:00:00    Commercial       Theft Over        1   \n",
       "6  2014-01-08T05:00:00         House  Break and Enter        1   \n",
       "7  2014-01-06T05:00:00    Commercial       Theft Over        1   \n",
       "\n",
       "            Neighbourhood  ObjectId                    geometry  \\\n",
       "0  West Humber-Clairville         1  POINT (-79.59033 43.73401)   \n",
       "4  West Humber-Clairville         5  POINT (-79.58644 43.69711)   \n",
       "5  West Humber-Clairville         6  POINT (-79.58493 43.67834)   \n",
       "6  West Humber-Clairville         7  POINT (-79.62004 43.72299)   \n",
       "7  West Humber-Clairville         8  POINT (-79.58493 43.67834)   \n",
       "\n",
       "           TimeSeries lockdownNo lockdownStatus  \n",
       "0 2014-03-02 05:00:00       none              0  \n",
       "4 2014-01-03 05:00:00       none              0  \n",
       "5 2014-01-08 05:00:00       none              0  \n",
       "6 2014-01-08 05:00:00       none              0  \n",
       "7 2014-01-06 05:00:00       none              0  "
      ]
     },
     "execution_count": 37,
     "metadata": {},
     "output_type": "execute_result"
    }
   ],
   "source": [
    "# create a binary lockdown column based on lockdownNum column where 1 = in lockdown, and 0 = not in lockdown\n",
    "crime['lockdownStatus'] = ['1' if x == 'first' else '1' if x == 'second' else '1' if x == 'third' else '0' for x in crime['lockdownNo']]\n",
    "\n",
    "#confirm new column\n",
    "crime.head()"
   ]
  },
  {
   "cell_type": "code",
   "execution_count": 38,
   "metadata": {},
   "outputs": [
    {
     "name": "stdout",
     "output_type": "stream",
     "text": [
      "<class 'geopandas.geodataframe.GeoDataFrame'>\n",
      "Int64Index: 275494 entries, 0 to 277185\n",
      "Data columns (total 10 columns):\n",
      " #   Column          Non-Null Count   Dtype         \n",
      "---  ------          --------------   -----         \n",
      " 0   occurrencedate  275494 non-null  object        \n",
      " 1   premises_type   275494 non-null  category      \n",
      " 2   MCI             275494 non-null  category      \n",
      " 3   Hood_ID         275494 non-null  int64         \n",
      " 4   Neighbourhood   275494 non-null  category      \n",
      " 5   ObjectId        275494 non-null  int64         \n",
      " 6   geometry        275494 non-null  geometry      \n",
      " 7   TimeSeries      275494 non-null  datetime64[ns]\n",
      " 8   lockdownNo      275494 non-null  object        \n",
      " 9   lockdownStatus  275494 non-null  object        \n",
      "dtypes: category(3), datetime64[ns](1), geometry(1), int64(2), object(3)\n",
      "memory usage: 17.9+ MB\n"
     ]
    }
   ],
   "source": [
    "# check datatypes\n",
    "crime.info()"
   ]
  },
  {
   "cell_type": "code",
   "execution_count": 39,
   "metadata": {},
   "outputs": [
    {
     "name": "stdout",
     "output_type": "stream",
     "text": [
      "<class 'geopandas.geodataframe.GeoDataFrame'>\n",
      "Int64Index: 275494 entries, 0 to 277185\n",
      "Data columns (total 9 columns):\n",
      " #   Column          Non-Null Count   Dtype         \n",
      "---  ------          --------------   -----         \n",
      " 0   premises_type   275494 non-null  category      \n",
      " 1   MCI             275494 non-null  category      \n",
      " 2   Hood_ID         275494 non-null  int64         \n",
      " 3   Neighbourhood   275494 non-null  category      \n",
      " 4   ObjectId        275494 non-null  int64         \n",
      " 5   geometry        275494 non-null  geometry      \n",
      " 6   TimeSeries      275494 non-null  datetime64[ns]\n",
      " 7   lockdownNo      275494 non-null  category      \n",
      " 8   lockdownStatus  275494 non-null  int64         \n",
      "dtypes: category(4), datetime64[ns](1), geometry(1), int64(3)\n",
      "memory usage: 13.9 MB\n"
     ]
    }
   ],
   "source": [
    "# delete occurrencedate as it is no longer needed\n",
    "cols2drop5 = ['occurrencedate']\n",
    "for col in crime.columns:\n",
    "    if col in cols2drop5:\n",
    "        crime.drop(col, inplace=True, axis=1)\n",
    "\n",
    "# convert datatypes\n",
    "for c in ['lockdownNo']:\n",
    "    crime[c] = crime[c].astype('category')\n",
    "for c in ['lockdownStatus']:\n",
    "    crime[c] = crime[c].astype('int')\n",
    "\n",
    "# confirm changes\n",
    "crime.info()"
   ]
  },
  {
   "cell_type": "code",
   "execution_count": 40,
   "metadata": {},
   "outputs": [
    {
     "data": {
      "text/html": [
       "<div>\n",
       "<style scoped>\n",
       "    .dataframe tbody tr th:only-of-type {\n",
       "        vertical-align: middle;\n",
       "    }\n",
       "\n",
       "    .dataframe tbody tr th {\n",
       "        vertical-align: top;\n",
       "    }\n",
       "\n",
       "    .dataframe thead th {\n",
       "        text-align: right;\n",
       "    }\n",
       "</style>\n",
       "<table border=\"1\" class=\"dataframe\">\n",
       "  <thead>\n",
       "    <tr style=\"text-align: right;\">\n",
       "      <th></th>\n",
       "      <th>premises_type</th>\n",
       "      <th>MCI</th>\n",
       "      <th>Hood_ID</th>\n",
       "      <th>Neighbourhood</th>\n",
       "      <th>ObjectId</th>\n",
       "      <th>geometry</th>\n",
       "      <th>TimeSeries</th>\n",
       "      <th>lockdownNo</th>\n",
       "      <th>lockdownStatus</th>\n",
       "    </tr>\n",
       "  </thead>\n",
       "  <tbody>\n",
       "    <tr>\n",
       "      <th>221919</th>\n",
       "      <td>Apartment</td>\n",
       "      <td>Assault</td>\n",
       "      <td>117</td>\n",
       "      <td>LAmoreaux</td>\n",
       "      <td>221920</td>\n",
       "      <td>POINT (-79.31927 43.79585)</td>\n",
       "      <td>2016-01-05 05:00:00</td>\n",
       "      <td>none</td>\n",
       "      <td>0</td>\n",
       "    </tr>\n",
       "    <tr>\n",
       "      <th>174849</th>\n",
       "      <td>Outside</td>\n",
       "      <td>Auto Theft</td>\n",
       "      <td>84</td>\n",
       "      <td>Little Portugal</td>\n",
       "      <td>174850</td>\n",
       "      <td>POINT (-79.42596 43.64277)</td>\n",
       "      <td>2017-09-03 04:00:00</td>\n",
       "      <td>none</td>\n",
       "      <td>0</td>\n",
       "    </tr>\n",
       "    <tr>\n",
       "      <th>107779</th>\n",
       "      <td>Commercial</td>\n",
       "      <td>Break and Enter</td>\n",
       "      <td>63</td>\n",
       "      <td>The Beaches</td>\n",
       "      <td>107780</td>\n",
       "      <td>POINT (-79.30574 43.66876)</td>\n",
       "      <td>2020-11-03 05:00:00</td>\n",
       "      <td>none</td>\n",
       "      <td>0</td>\n",
       "    </tr>\n",
       "    <tr>\n",
       "      <th>107512</th>\n",
       "      <td>Outside</td>\n",
       "      <td>Assault</td>\n",
       "      <td>63</td>\n",
       "      <td>The Beaches</td>\n",
       "      <td>107513</td>\n",
       "      <td>POINT (-79.31255 43.66724)</td>\n",
       "      <td>2021-07-01 04:00:00</td>\n",
       "      <td>none</td>\n",
       "      <td>0</td>\n",
       "    </tr>\n",
       "    <tr>\n",
       "      <th>182724</th>\n",
       "      <td>Apartment</td>\n",
       "      <td>Assault</td>\n",
       "      <td>88</td>\n",
       "      <td>High Park North</td>\n",
       "      <td>182725</td>\n",
       "      <td>POINT (-79.46818 43.65633)</td>\n",
       "      <td>2021-03-18 04:00:00</td>\n",
       "      <td>none</td>\n",
       "      <td>0</td>\n",
       "    </tr>\n",
       "    <tr>\n",
       "      <th>...</th>\n",
       "      <td>...</td>\n",
       "      <td>...</td>\n",
       "      <td>...</td>\n",
       "      <td>...</td>\n",
       "      <td>...</td>\n",
       "      <td>...</td>\n",
       "      <td>...</td>\n",
       "      <td>...</td>\n",
       "      <td>...</td>\n",
       "    </tr>\n",
       "    <tr>\n",
       "      <th>199401</th>\n",
       "      <td>Apartment</td>\n",
       "      <td>Assault</td>\n",
       "      <td>99</td>\n",
       "      <td>Mount Pleasant East</td>\n",
       "      <td>199402</td>\n",
       "      <td>POINT (-79.38120 43.71021)</td>\n",
       "      <td>2015-10-20 04:00:00</td>\n",
       "      <td>none</td>\n",
       "      <td>0</td>\n",
       "    </tr>\n",
       "    <tr>\n",
       "      <th>93150</th>\n",
       "      <td>Commercial</td>\n",
       "      <td>Break and Enter</td>\n",
       "      <td>52</td>\n",
       "      <td>Bayview Village</td>\n",
       "      <td>93151</td>\n",
       "      <td>POINT (-79.37425 43.77014)</td>\n",
       "      <td>2015-04-28 04:00:00</td>\n",
       "      <td>none</td>\n",
       "      <td>0</td>\n",
       "    </tr>\n",
       "    <tr>\n",
       "      <th>270954</th>\n",
       "      <td>Apartment</td>\n",
       "      <td>Assault</td>\n",
       "      <td>137</td>\n",
       "      <td>Woburn</td>\n",
       "      <td>270955</td>\n",
       "      <td>POINT (-79.21101 43.76286)</td>\n",
       "      <td>2019-04-06 04:00:00</td>\n",
       "      <td>none</td>\n",
       "      <td>0</td>\n",
       "    </tr>\n",
       "    <tr>\n",
       "      <th>224887</th>\n",
       "      <td>Outside</td>\n",
       "      <td>Auto Theft</td>\n",
       "      <td>118</td>\n",
       "      <td>Tam OShanter-Sullivan</td>\n",
       "      <td>224888</td>\n",
       "      <td>POINT (-79.29342 43.78212)</td>\n",
       "      <td>2017-01-23 05:00:00</td>\n",
       "      <td>none</td>\n",
       "      <td>0</td>\n",
       "    </tr>\n",
       "    <tr>\n",
       "      <th>146122</th>\n",
       "      <td>House</td>\n",
       "      <td>Break and Enter</td>\n",
       "      <td>76</td>\n",
       "      <td>Bay Street Corridor</td>\n",
       "      <td>146123</td>\n",
       "      <td>POINT (-79.38438 43.65731)</td>\n",
       "      <td>2020-01-05 05:00:00</td>\n",
       "      <td>none</td>\n",
       "      <td>0</td>\n",
       "    </tr>\n",
       "  </tbody>\n",
       "</table>\n",
       "<p>137747 rows × 9 columns</p>\n",
       "</div>"
      ],
      "text/plain": [
       "       premises_type              MCI  Hood_ID          Neighbourhood  \\\n",
       "221919     Apartment          Assault      117              LAmoreaux   \n",
       "174849       Outside       Auto Theft       84        Little Portugal   \n",
       "107779    Commercial  Break and Enter       63            The Beaches   \n",
       "107512       Outside          Assault       63            The Beaches   \n",
       "182724     Apartment          Assault       88        High Park North   \n",
       "...              ...              ...      ...                    ...   \n",
       "199401     Apartment          Assault       99    Mount Pleasant East   \n",
       "93150     Commercial  Break and Enter       52        Bayview Village   \n",
       "270954     Apartment          Assault      137                 Woburn   \n",
       "224887       Outside       Auto Theft      118  Tam OShanter-Sullivan   \n",
       "146122         House  Break and Enter       76    Bay Street Corridor   \n",
       "\n",
       "        ObjectId                    geometry          TimeSeries lockdownNo  \\\n",
       "221919    221920  POINT (-79.31927 43.79585) 2016-01-05 05:00:00       none   \n",
       "174849    174850  POINT (-79.42596 43.64277) 2017-09-03 04:00:00       none   \n",
       "107779    107780  POINT (-79.30574 43.66876) 2020-11-03 05:00:00       none   \n",
       "107512    107513  POINT (-79.31255 43.66724) 2021-07-01 04:00:00       none   \n",
       "182724    182725  POINT (-79.46818 43.65633) 2021-03-18 04:00:00       none   \n",
       "...          ...                         ...                 ...        ...   \n",
       "199401    199402  POINT (-79.38120 43.71021) 2015-10-20 04:00:00       none   \n",
       "93150      93151  POINT (-79.37425 43.77014) 2015-04-28 04:00:00       none   \n",
       "270954    270955  POINT (-79.21101 43.76286) 2019-04-06 04:00:00       none   \n",
       "224887    224888  POINT (-79.29342 43.78212) 2017-01-23 05:00:00       none   \n",
       "146122    146123  POINT (-79.38438 43.65731) 2020-01-05 05:00:00       none   \n",
       "\n",
       "        lockdownStatus  \n",
       "221919               0  \n",
       "174849               0  \n",
       "107779               0  \n",
       "107512               0  \n",
       "182724               0  \n",
       "...                ...  \n",
       "199401               0  \n",
       "93150                0  \n",
       "270954               0  \n",
       "224887               0  \n",
       "146122               0  \n",
       "\n",
       "[137747 rows x 9 columns]"
      ]
     },
     "execution_count": 40,
     "metadata": {},
     "output_type": "execute_result"
    }
   ],
   "source": [
    "# random check of data frame\n",
    "crime.sample(frac=0.5)"
   ]
  },
  {
   "cell_type": "code",
   "execution_count": 41,
   "metadata": {},
   "outputs": [],
   "source": [
    "# NOTE: precison of geometry column is not consistent - some are 7 decimals, others are 14 decimals\n",
    "# likely due to tying crime locations to nearest intersection rather than address\n",
    "# we will leave precison as it is"
   ]
  },
  {
   "cell_type": "markdown",
   "metadata": {},
   "source": [
    "### Save Cleaned Crime Data"
   ]
  },
  {
   "cell_type": "code",
   "execution_count": 42,
   "metadata": {},
   "outputs": [
    {
     "data": {
      "text/html": [
       "<div>\n",
       "<style scoped>\n",
       "    .dataframe tbody tr th:only-of-type {\n",
       "        vertical-align: middle;\n",
       "    }\n",
       "\n",
       "    .dataframe tbody tr th {\n",
       "        vertical-align: top;\n",
       "    }\n",
       "\n",
       "    .dataframe thead th {\n",
       "        text-align: right;\n",
       "    }\n",
       "</style>\n",
       "<table border=\"1\" class=\"dataframe\">\n",
       "  <thead>\n",
       "    <tr style=\"text-align: right;\">\n",
       "      <th></th>\n",
       "      <th>premises_type</th>\n",
       "      <th>MCI</th>\n",
       "      <th>Hood_ID</th>\n",
       "      <th>Neighbourhood</th>\n",
       "      <th>ObjectId</th>\n",
       "      <th>geometry</th>\n",
       "      <th>TimeSeries</th>\n",
       "      <th>lockdownNo</th>\n",
       "      <th>lockdownStatus</th>\n",
       "    </tr>\n",
       "  </thead>\n",
       "  <tbody>\n",
       "    <tr>\n",
       "      <th>0</th>\n",
       "      <td>House</td>\n",
       "      <td>Assault</td>\n",
       "      <td>1</td>\n",
       "      <td>West Humber-Clairville</td>\n",
       "      <td>1</td>\n",
       "      <td>POINT (-79.59033 43.73401)</td>\n",
       "      <td>2014-03-02 05:00:00</td>\n",
       "      <td>none</td>\n",
       "      <td>0</td>\n",
       "    </tr>\n",
       "    <tr>\n",
       "      <th>4</th>\n",
       "      <td>Commercial</td>\n",
       "      <td>Break and Enter</td>\n",
       "      <td>1</td>\n",
       "      <td>West Humber-Clairville</td>\n",
       "      <td>5</td>\n",
       "      <td>POINT (-79.58644 43.69711)</td>\n",
       "      <td>2014-01-03 05:00:00</td>\n",
       "      <td>none</td>\n",
       "      <td>0</td>\n",
       "    </tr>\n",
       "    <tr>\n",
       "      <th>5</th>\n",
       "      <td>Commercial</td>\n",
       "      <td>Theft Over</td>\n",
       "      <td>1</td>\n",
       "      <td>West Humber-Clairville</td>\n",
       "      <td>6</td>\n",
       "      <td>POINT (-79.58493 43.67834)</td>\n",
       "      <td>2014-01-08 05:00:00</td>\n",
       "      <td>none</td>\n",
       "      <td>0</td>\n",
       "    </tr>\n",
       "    <tr>\n",
       "      <th>6</th>\n",
       "      <td>House</td>\n",
       "      <td>Break and Enter</td>\n",
       "      <td>1</td>\n",
       "      <td>West Humber-Clairville</td>\n",
       "      <td>7</td>\n",
       "      <td>POINT (-79.62004 43.72299)</td>\n",
       "      <td>2014-01-08 05:00:00</td>\n",
       "      <td>none</td>\n",
       "      <td>0</td>\n",
       "    </tr>\n",
       "    <tr>\n",
       "      <th>7</th>\n",
       "      <td>Commercial</td>\n",
       "      <td>Theft Over</td>\n",
       "      <td>1</td>\n",
       "      <td>West Humber-Clairville</td>\n",
       "      <td>8</td>\n",
       "      <td>POINT (-79.58493 43.67834)</td>\n",
       "      <td>2014-01-06 05:00:00</td>\n",
       "      <td>none</td>\n",
       "      <td>0</td>\n",
       "    </tr>\n",
       "    <tr>\n",
       "      <th>9</th>\n",
       "      <td>House</td>\n",
       "      <td>Break and Enter</td>\n",
       "      <td>1</td>\n",
       "      <td>West Humber-Clairville</td>\n",
       "      <td>10</td>\n",
       "      <td>POINT (-79.62443 43.72814)</td>\n",
       "      <td>2014-01-10 05:00:00</td>\n",
       "      <td>none</td>\n",
       "      <td>0</td>\n",
       "    </tr>\n",
       "    <tr>\n",
       "      <th>10</th>\n",
       "      <td>Other</td>\n",
       "      <td>Assault</td>\n",
       "      <td>1</td>\n",
       "      <td>West Humber-Clairville</td>\n",
       "      <td>11</td>\n",
       "      <td>POINT (-79.61821 43.73236)</td>\n",
       "      <td>2014-01-12 05:00:00</td>\n",
       "      <td>none</td>\n",
       "      <td>0</td>\n",
       "    </tr>\n",
       "    <tr>\n",
       "      <th>11</th>\n",
       "      <td>Apartment</td>\n",
       "      <td>Assault</td>\n",
       "      <td>1</td>\n",
       "      <td>West Humber-Clairville</td>\n",
       "      <td>12</td>\n",
       "      <td>POINT (-79.60227 43.75569)</td>\n",
       "      <td>2014-01-12 05:00:00</td>\n",
       "      <td>none</td>\n",
       "      <td>0</td>\n",
       "    </tr>\n",
       "    <tr>\n",
       "      <th>12</th>\n",
       "      <td>Apartment</td>\n",
       "      <td>Assault</td>\n",
       "      <td>1</td>\n",
       "      <td>West Humber-Clairville</td>\n",
       "      <td>13</td>\n",
       "      <td>POINT (-79.60227 43.75569)</td>\n",
       "      <td>2014-01-12 05:00:00</td>\n",
       "      <td>none</td>\n",
       "      <td>0</td>\n",
       "    </tr>\n",
       "    <tr>\n",
       "      <th>13</th>\n",
       "      <td>Outside</td>\n",
       "      <td>Assault</td>\n",
       "      <td>1</td>\n",
       "      <td>West Humber-Clairville</td>\n",
       "      <td>14</td>\n",
       "      <td>POINT (-79.61689 43.72375)</td>\n",
       "      <td>2014-01-12 05:00:00</td>\n",
       "      <td>none</td>\n",
       "      <td>0</td>\n",
       "    </tr>\n",
       "  </tbody>\n",
       "</table>\n",
       "</div>"
      ],
      "text/plain": [
       "   premises_type              MCI  Hood_ID           Neighbourhood  ObjectId  \\\n",
       "0          House          Assault        1  West Humber-Clairville         1   \n",
       "4     Commercial  Break and Enter        1  West Humber-Clairville         5   \n",
       "5     Commercial       Theft Over        1  West Humber-Clairville         6   \n",
       "6          House  Break and Enter        1  West Humber-Clairville         7   \n",
       "7     Commercial       Theft Over        1  West Humber-Clairville         8   \n",
       "9          House  Break and Enter        1  West Humber-Clairville        10   \n",
       "10         Other          Assault        1  West Humber-Clairville        11   \n",
       "11     Apartment          Assault        1  West Humber-Clairville        12   \n",
       "12     Apartment          Assault        1  West Humber-Clairville        13   \n",
       "13       Outside          Assault        1  West Humber-Clairville        14   \n",
       "\n",
       "                      geometry          TimeSeries lockdownNo  lockdownStatus  \n",
       "0   POINT (-79.59033 43.73401) 2014-03-02 05:00:00       none               0  \n",
       "4   POINT (-79.58644 43.69711) 2014-01-03 05:00:00       none               0  \n",
       "5   POINT (-79.58493 43.67834) 2014-01-08 05:00:00       none               0  \n",
       "6   POINT (-79.62004 43.72299) 2014-01-08 05:00:00       none               0  \n",
       "7   POINT (-79.58493 43.67834) 2014-01-06 05:00:00       none               0  \n",
       "9   POINT (-79.62443 43.72814) 2014-01-10 05:00:00       none               0  \n",
       "10  POINT (-79.61821 43.73236) 2014-01-12 05:00:00       none               0  \n",
       "11  POINT (-79.60227 43.75569) 2014-01-12 05:00:00       none               0  \n",
       "12  POINT (-79.60227 43.75569) 2014-01-12 05:00:00       none               0  \n",
       "13  POINT (-79.61689 43.72375) 2014-01-12 05:00:00       none               0  "
      ]
     },
     "execution_count": 42,
     "metadata": {},
     "output_type": "execute_result"
    }
   ],
   "source": [
    "# have a look at data\n",
    "crime.head(10)"
   ]
  },
  {
   "cell_type": "code",
   "execution_count": 43,
   "metadata": {},
   "outputs": [
    {
     "name": "stdout",
     "output_type": "stream",
     "text": [
      "<class 'geopandas.geodataframe.GeoDataFrame'>\n",
      "Int64Index: 275494 entries, 0 to 277185\n",
      "Data columns (total 9 columns):\n",
      " #   Column          Non-Null Count   Dtype         \n",
      "---  ------          --------------   -----         \n",
      " 0   premises_type   275494 non-null  category      \n",
      " 1   MCI             275494 non-null  category      \n",
      " 2   Hood_ID         275494 non-null  int64         \n",
      " 3   Neighbourhood   275494 non-null  category      \n",
      " 4   ObjectId        275494 non-null  int64         \n",
      " 5   geometry        275494 non-null  geometry      \n",
      " 6   TimeSeries      275494 non-null  datetime64[ns]\n",
      " 7   lockdownNo      275494 non-null  category      \n",
      " 8   lockdownStatus  275494 non-null  int64         \n",
      "dtypes: category(4), datetime64[ns](1), geometry(1), int64(3)\n",
      "memory usage: 13.9 MB\n"
     ]
    }
   ],
   "source": [
    "# have a look at dataframe\n",
    "crime.info()"
   ]
  },
  {
   "cell_type": "code",
   "execution_count": 44,
   "metadata": {},
   "outputs": [
    {
     "name": "stdout",
     "output_type": "stream",
     "text": [
      "Writing to: crimeData.csv.gz\n",
      "Done.\n"
     ]
    }
   ],
   "source": [
    "## LOCAL ONLY\n",
    "\n",
    "# save crime as clean data\n",
    "path = os.path.join('data','clean')\n",
    "fn = 'crimeData.csv.gz'\n",
    "print(f\"Writing to: {fn}\")\n",
    "\n",
    "if not os.path.exists(path):\n",
    "    print(f\"Creating {path} under {os.getcwd()}\")\n",
    "    os.makedirs(path)\n",
    "    \n",
    "crime.to_csv(os.path.join(path,fn), index=False, compression=\"gzip\")\n",
    "print(\"Done.\")"
   ]
  },
  {
   "cell_type": "code",
   "execution_count": 46,
   "metadata": {},
   "outputs": [],
   "source": [
    "## NOTE - categorical data not able to be saved as part of GPKG\n",
    "\n",
    "# convert categorical data back to object\n",
    "for c in ['premises_type', 'MCI', 'Neighbourhood', 'lockdownNo']:\n",
    "    crime[c] = crime[c].astype('object')"
   ]
  },
  {
   "cell_type": "code",
   "execution_count": 47,
   "metadata": {},
   "outputs": [
    {
     "name": "stdout",
     "output_type": "stream",
     "text": [
      "Using 'crime.gpkg' as basis for saving data...\n",
      "Done.\n"
     ]
    }
   ],
   "source": [
    "## LOCAL ONLY\n",
    "\n",
    "# save crime as a geodataframe\n",
    "\n",
    "# Set save location\n",
    "path = os.path.join('data','geo')\n",
    "fn = 'crime.gpkg'\n",
    "\n",
    "if not os.path.exists(path):\n",
    "    print(f\"Creating {path} under {os.getcwd()}\")\n",
    "    os.makedirs(path)\n",
    "    \n",
    "print(f\"Using '{fn}' as basis for saving data...\")\n",
    "\n",
    "crime.to_file(os.path.join(path,fn), driver='GPKG')\n",
    "print(\"Done.\")"
   ]
  },
  {
   "cell_type": "markdown",
   "metadata": {},
   "source": [
    "# COVID Cases"
   ]
  },
  {
   "cell_type": "markdown",
   "metadata": {},
   "source": [
    "### Load COVID Data"
   ]
  },
  {
   "cell_type": "code",
   "execution_count": 48,
   "metadata": {},
   "outputs": [
    {
     "data": {
      "text/plain": [
       "(313961, 18)"
      ]
     },
     "execution_count": 48,
     "metadata": {},
     "output_type": "execute_result"
    }
   ],
   "source": [
    "# now let's look at the Covid case data\n",
    "# open covid-19 case data into a pandas dataframe\n",
    "\n",
    "url = 'https://ckan0.cf.opendata.inter.prod-toronto.ca/dataset/64b54586-6180-4485-83eb-81e8fae3b8fe/resource/fff4ee65-3527-43be-9a8a-cb9401377dbc/download/COVID19%20cases.csv'\n",
    "covid = pd.read_csv(url, low_memory=False)\n",
    "\n",
    "# confirm load\n",
    "covid.shape"
   ]
  },
  {
   "cell_type": "code",
   "execution_count": 49,
   "metadata": {},
   "outputs": [
    {
     "name": "stdout",
     "output_type": "stream",
     "text": [
      "<class 'pandas.core.frame.DataFrame'>\n",
      "RangeIndex: 313961 entries, 0 to 313960\n",
      "Data columns (total 18 columns):\n",
      " #   Column                  Non-Null Count   Dtype \n",
      "---  ------                  --------------   ----- \n",
      " 0   _id                     313961 non-null  int64 \n",
      " 1   Assigned_ID             313961 non-null  int64 \n",
      " 2   Outbreak Associated     313961 non-null  object\n",
      " 3   Age Group               313648 non-null  object\n",
      " 4   Neighbourhood Name      305511 non-null  object\n",
      " 5   FSA                     309377 non-null  object\n",
      " 6   Source of Infection     313961 non-null  object\n",
      " 7   Classification          313961 non-null  object\n",
      " 8   Episode Date            313961 non-null  object\n",
      " 9   Reported Date           313961 non-null  object\n",
      " 10  Client Gender           313961 non-null  object\n",
      " 11  Outcome                 313961 non-null  object\n",
      " 12  Currently Hospitalized  313961 non-null  object\n",
      " 13  Currently in ICU        313961 non-null  object\n",
      " 14  Currently Intubated     313961 non-null  object\n",
      " 15  Ever Hospitalized       313961 non-null  object\n",
      " 16  Ever in ICU             313961 non-null  object\n",
      " 17  Ever Intubated          313961 non-null  object\n",
      "dtypes: int64(2), object(16)\n",
      "memory usage: 43.1+ MB\n"
     ]
    }
   ],
   "source": [
    "# check dataframe\n",
    "covid.info()"
   ]
  },
  {
   "cell_type": "code",
   "execution_count": 50,
   "metadata": {},
   "outputs": [
    {
     "name": "stdout",
     "output_type": "stream",
     "text": [
      "['_id', 'Assigned_ID', 'Outbreak Associated', 'Age Group', 'Neighbourhood Name', 'FSA', 'Source of Infection', 'Classification', 'Episode Date', 'Reported Date', 'Client Gender', 'Outcome', 'Currently Hospitalized', 'Currently in ICU', 'Currently Intubated', 'Ever Hospitalized', 'Ever in ICU', 'Ever Intubated']\n"
     ]
    }
   ],
   "source": [
    "# check column names - makes copying text for later steps easier\n",
    "print(list(covid.columns.values))"
   ]
  },
  {
   "cell_type": "code",
   "execution_count": 51,
   "metadata": {},
   "outputs": [
    {
     "data": {
      "text/html": [
       "<div>\n",
       "<style scoped>\n",
       "    .dataframe tbody tr th:only-of-type {\n",
       "        vertical-align: middle;\n",
       "    }\n",
       "\n",
       "    .dataframe tbody tr th {\n",
       "        vertical-align: top;\n",
       "    }\n",
       "\n",
       "    .dataframe thead th {\n",
       "        text-align: right;\n",
       "    }\n",
       "</style>\n",
       "<table border=\"1\" class=\"dataframe\">\n",
       "  <thead>\n",
       "    <tr style=\"text-align: right;\">\n",
       "      <th></th>\n",
       "      <th>_id</th>\n",
       "      <th>Assigned_ID</th>\n",
       "      <th>Outbreak Associated</th>\n",
       "      <th>Age Group</th>\n",
       "      <th>Neighbourhood Name</th>\n",
       "      <th>FSA</th>\n",
       "      <th>Source of Infection</th>\n",
       "      <th>Classification</th>\n",
       "      <th>Episode Date</th>\n",
       "      <th>Reported Date</th>\n",
       "      <th>Client Gender</th>\n",
       "      <th>Outcome</th>\n",
       "      <th>Currently Hospitalized</th>\n",
       "      <th>Currently in ICU</th>\n",
       "      <th>Currently Intubated</th>\n",
       "      <th>Ever Hospitalized</th>\n",
       "      <th>Ever in ICU</th>\n",
       "      <th>Ever Intubated</th>\n",
       "    </tr>\n",
       "  </thead>\n",
       "  <tbody>\n",
       "    <tr>\n",
       "      <th>0</th>\n",
       "      <td>1</td>\n",
       "      <td>1</td>\n",
       "      <td>Sporadic</td>\n",
       "      <td>50 to 59 Years</td>\n",
       "      <td>Willowdale East</td>\n",
       "      <td>M2N</td>\n",
       "      <td>Travel</td>\n",
       "      <td>CONFIRMED</td>\n",
       "      <td>2020-01-22</td>\n",
       "      <td>2020-01-23</td>\n",
       "      <td>FEMALE</td>\n",
       "      <td>RESOLVED</td>\n",
       "      <td>No</td>\n",
       "      <td>No</td>\n",
       "      <td>No</td>\n",
       "      <td>No</td>\n",
       "      <td>No</td>\n",
       "      <td>No</td>\n",
       "    </tr>\n",
       "    <tr>\n",
       "      <th>1</th>\n",
       "      <td>2</td>\n",
       "      <td>2</td>\n",
       "      <td>Sporadic</td>\n",
       "      <td>50 to 59 Years</td>\n",
       "      <td>Willowdale East</td>\n",
       "      <td>M2N</td>\n",
       "      <td>Travel</td>\n",
       "      <td>CONFIRMED</td>\n",
       "      <td>2020-01-21</td>\n",
       "      <td>2020-01-23</td>\n",
       "      <td>MALE</td>\n",
       "      <td>RESOLVED</td>\n",
       "      <td>No</td>\n",
       "      <td>No</td>\n",
       "      <td>No</td>\n",
       "      <td>Yes</td>\n",
       "      <td>No</td>\n",
       "      <td>No</td>\n",
       "    </tr>\n",
       "    <tr>\n",
       "      <th>2</th>\n",
       "      <td>3</td>\n",
       "      <td>3</td>\n",
       "      <td>Sporadic</td>\n",
       "      <td>20 to 29 Years</td>\n",
       "      <td>Parkwoods-Donalda</td>\n",
       "      <td>M3A</td>\n",
       "      <td>Travel</td>\n",
       "      <td>CONFIRMED</td>\n",
       "      <td>2020-02-05</td>\n",
       "      <td>2020-02-21</td>\n",
       "      <td>FEMALE</td>\n",
       "      <td>RESOLVED</td>\n",
       "      <td>No</td>\n",
       "      <td>No</td>\n",
       "      <td>No</td>\n",
       "      <td>No</td>\n",
       "      <td>No</td>\n",
       "      <td>No</td>\n",
       "    </tr>\n",
       "    <tr>\n",
       "      <th>3</th>\n",
       "      <td>4</td>\n",
       "      <td>4</td>\n",
       "      <td>Sporadic</td>\n",
       "      <td>60 to 69 Years</td>\n",
       "      <td>Church-Yonge Corridor</td>\n",
       "      <td>M4W</td>\n",
       "      <td>Travel</td>\n",
       "      <td>CONFIRMED</td>\n",
       "      <td>2020-02-16</td>\n",
       "      <td>2020-02-25</td>\n",
       "      <td>FEMALE</td>\n",
       "      <td>RESOLVED</td>\n",
       "      <td>No</td>\n",
       "      <td>No</td>\n",
       "      <td>No</td>\n",
       "      <td>No</td>\n",
       "      <td>No</td>\n",
       "      <td>No</td>\n",
       "    </tr>\n",
       "    <tr>\n",
       "      <th>4</th>\n",
       "      <td>5</td>\n",
       "      <td>5</td>\n",
       "      <td>Sporadic</td>\n",
       "      <td>60 to 69 Years</td>\n",
       "      <td>Church-Yonge Corridor</td>\n",
       "      <td>M4W</td>\n",
       "      <td>Travel</td>\n",
       "      <td>CONFIRMED</td>\n",
       "      <td>2020-02-20</td>\n",
       "      <td>2020-02-26</td>\n",
       "      <td>MALE</td>\n",
       "      <td>RESOLVED</td>\n",
       "      <td>No</td>\n",
       "      <td>No</td>\n",
       "      <td>No</td>\n",
       "      <td>No</td>\n",
       "      <td>No</td>\n",
       "      <td>No</td>\n",
       "    </tr>\n",
       "  </tbody>\n",
       "</table>\n",
       "</div>"
      ],
      "text/plain": [
       "   _id  Assigned_ID Outbreak Associated       Age Group  \\\n",
       "0    1            1            Sporadic  50 to 59 Years   \n",
       "1    2            2            Sporadic  50 to 59 Years   \n",
       "2    3            3            Sporadic  20 to 29 Years   \n",
       "3    4            4            Sporadic  60 to 69 Years   \n",
       "4    5            5            Sporadic  60 to 69 Years   \n",
       "\n",
       "      Neighbourhood Name  FSA Source of Infection Classification Episode Date  \\\n",
       "0        Willowdale East  M2N              Travel      CONFIRMED   2020-01-22   \n",
       "1        Willowdale East  M2N              Travel      CONFIRMED   2020-01-21   \n",
       "2      Parkwoods-Donalda  M3A              Travel      CONFIRMED   2020-02-05   \n",
       "3  Church-Yonge Corridor  M4W              Travel      CONFIRMED   2020-02-16   \n",
       "4  Church-Yonge Corridor  M4W              Travel      CONFIRMED   2020-02-20   \n",
       "\n",
       "  Reported Date Client Gender   Outcome Currently Hospitalized  \\\n",
       "0    2020-01-23        FEMALE  RESOLVED                     No   \n",
       "1    2020-01-23          MALE  RESOLVED                     No   \n",
       "2    2020-02-21        FEMALE  RESOLVED                     No   \n",
       "3    2020-02-25        FEMALE  RESOLVED                     No   \n",
       "4    2020-02-26          MALE  RESOLVED                     No   \n",
       "\n",
       "  Currently in ICU Currently Intubated Ever Hospitalized Ever in ICU  \\\n",
       "0               No                  No                No          No   \n",
       "1               No                  No               Yes          No   \n",
       "2               No                  No                No          No   \n",
       "3               No                  No                No          No   \n",
       "4               No                  No                No          No   \n",
       "\n",
       "  Ever Intubated  \n",
       "0             No  \n",
       "1             No  \n",
       "2             No  \n",
       "3             No  \n",
       "4             No  "
      ]
     },
     "execution_count": 51,
     "metadata": {},
     "output_type": "execute_result"
    }
   ],
   "source": [
    "# look at data\n",
    "covid.head()"
   ]
  },
  {
   "cell_type": "markdown",
   "metadata": {},
   "source": [
    "### Reduce COVID Data"
   ]
  },
  {
   "cell_type": "code",
   "execution_count": 52,
   "metadata": {},
   "outputs": [
    {
     "name": "stdout",
     "output_type": "stream",
     "text": [
      "<class 'pandas.core.frame.DataFrame'>\n",
      "RangeIndex: 313961 entries, 0 to 313960\n",
      "Data columns (total 7 columns):\n",
      " #   Column              Non-Null Count   Dtype \n",
      "---  ------              --------------   ----- \n",
      " 0   _id                 313961 non-null  int64 \n",
      " 1   Assigned_ID         313961 non-null  int64 \n",
      " 2   Neighbourhood Name  305511 non-null  object\n",
      " 3   FSA                 309377 non-null  object\n",
      " 4   Classification      313961 non-null  object\n",
      " 5   Episode Date        313961 non-null  object\n",
      " 6   Reported Date       313961 non-null  object\n",
      "dtypes: int64(2), object(5)\n",
      "memory usage: 16.8+ MB\n"
     ]
    }
   ],
   "source": [
    "# drop columns we don't need\n",
    "cols2drop6 = ['Outbreak Associated', 'Age Group', 'Source of Infection', 'Client Gender', 'Outcome', 'Currently Hospitalized', \n",
    "              'Currently in ICU', 'Currently Intubated', 'Ever Hospitalized', 'Ever in ICU', 'Ever Intubated']\n",
    "for col in covid.columns:\n",
    "    if col in cols2drop6:\n",
    "        covid.drop(col, inplace=True, axis=1)\n",
    "        \n",
    "# confirm reduced dataframe\n",
    "covid.info()"
   ]
  },
  {
   "cell_type": "code",
   "execution_count": 53,
   "metadata": {},
   "outputs": [
    {
     "name": "stdout",
     "output_type": "stream",
     "text": [
      "['_id', 'Assigned_ID', 'Neighbourhood Name', 'FSA', 'Classification', 'Episode Date', 'Reported Date']\n"
     ]
    }
   ],
   "source": [
    "# check column names again - makes copying text for later steps easier\n",
    "print(list(covid.columns.values))"
   ]
  },
  {
   "cell_type": "code",
   "execution_count": 54,
   "metadata": {},
   "outputs": [
    {
     "name": "stdout",
     "output_type": "stream",
     "text": [
      "Writing to: covidData.csv.gz\n",
      "Done.\n"
     ]
    }
   ],
   "source": [
    "## LOCAL ONLY\n",
    "\n",
    "# save reduced data locally\n",
    "path = os.path.join('data','raw')\n",
    "fn = 'covidData.csv.gz'\n",
    "print(f\"Writing to: {fn}\")\n",
    "\n",
    "if not os.path.exists(path):\n",
    "    print(f\"Creating {path} under {os.getcwd()}\")\n",
    "    os.makedirs(path)\n",
    "    \n",
    "covid.to_csv(os.path.join(path,fn), index=False, compression=\"gzip\")\n",
    "print(\"Done.\")"
   ]
  },
  {
   "cell_type": "markdown",
   "metadata": {},
   "source": [
    "### Clean COVID Data"
   ]
  },
  {
   "cell_type": "code",
   "execution_count": 55,
   "metadata": {},
   "outputs": [
    {
     "data": {
      "text/html": [
       "<div>\n",
       "<style scoped>\n",
       "    .dataframe tbody tr th:only-of-type {\n",
       "        vertical-align: middle;\n",
       "    }\n",
       "\n",
       "    .dataframe tbody tr th {\n",
       "        vertical-align: top;\n",
       "    }\n",
       "\n",
       "    .dataframe thead th {\n",
       "        text-align: right;\n",
       "    }\n",
       "</style>\n",
       "<table border=\"1\" class=\"dataframe\">\n",
       "  <thead>\n",
       "    <tr style=\"text-align: right;\">\n",
       "      <th></th>\n",
       "      <th>_id</th>\n",
       "      <th>Assigned_ID</th>\n",
       "      <th>Neighbourhood Name</th>\n",
       "      <th>FSA</th>\n",
       "      <th>Classification</th>\n",
       "      <th>Episode Date</th>\n",
       "      <th>Reported Date</th>\n",
       "    </tr>\n",
       "  </thead>\n",
       "  <tbody>\n",
       "    <tr>\n",
       "      <th>0</th>\n",
       "      <td>1</td>\n",
       "      <td>1</td>\n",
       "      <td>Willowdale East</td>\n",
       "      <td>M2N</td>\n",
       "      <td>CONFIRMED</td>\n",
       "      <td>2020-01-22</td>\n",
       "      <td>2020-01-23</td>\n",
       "    </tr>\n",
       "    <tr>\n",
       "      <th>1</th>\n",
       "      <td>2</td>\n",
       "      <td>2</td>\n",
       "      <td>Willowdale East</td>\n",
       "      <td>M2N</td>\n",
       "      <td>CONFIRMED</td>\n",
       "      <td>2020-01-21</td>\n",
       "      <td>2020-01-23</td>\n",
       "    </tr>\n",
       "    <tr>\n",
       "      <th>2</th>\n",
       "      <td>3</td>\n",
       "      <td>3</td>\n",
       "      <td>Parkwoods-Donalda</td>\n",
       "      <td>M3A</td>\n",
       "      <td>CONFIRMED</td>\n",
       "      <td>2020-02-05</td>\n",
       "      <td>2020-02-21</td>\n",
       "    </tr>\n",
       "    <tr>\n",
       "      <th>3</th>\n",
       "      <td>4</td>\n",
       "      <td>4</td>\n",
       "      <td>Church-Yonge Corridor</td>\n",
       "      <td>M4W</td>\n",
       "      <td>CONFIRMED</td>\n",
       "      <td>2020-02-16</td>\n",
       "      <td>2020-02-25</td>\n",
       "    </tr>\n",
       "    <tr>\n",
       "      <th>4</th>\n",
       "      <td>5</td>\n",
       "      <td>5</td>\n",
       "      <td>Church-Yonge Corridor</td>\n",
       "      <td>M4W</td>\n",
       "      <td>CONFIRMED</td>\n",
       "      <td>2020-02-20</td>\n",
       "      <td>2020-02-26</td>\n",
       "    </tr>\n",
       "    <tr>\n",
       "      <th>5</th>\n",
       "      <td>6</td>\n",
       "      <td>6</td>\n",
       "      <td>Newtonbrook West</td>\n",
       "      <td>M2R</td>\n",
       "      <td>CONFIRMED</td>\n",
       "      <td>2020-02-24</td>\n",
       "      <td>2020-02-27</td>\n",
       "    </tr>\n",
       "    <tr>\n",
       "      <th>6</th>\n",
       "      <td>7</td>\n",
       "      <td>7</td>\n",
       "      <td>Milliken</td>\n",
       "      <td>M1V</td>\n",
       "      <td>CONFIRMED</td>\n",
       "      <td>2020-02-20</td>\n",
       "      <td>2020-02-28</td>\n",
       "    </tr>\n",
       "    <tr>\n",
       "      <th>7</th>\n",
       "      <td>8</td>\n",
       "      <td>8</td>\n",
       "      <td>Willowdale West</td>\n",
       "      <td>M2N</td>\n",
       "      <td>CONFIRMED</td>\n",
       "      <td>2020-02-21</td>\n",
       "      <td>2020-03-04</td>\n",
       "    </tr>\n",
       "    <tr>\n",
       "      <th>8</th>\n",
       "      <td>9</td>\n",
       "      <td>9</td>\n",
       "      <td>Willowdale East</td>\n",
       "      <td>M2N</td>\n",
       "      <td>CONFIRMED</td>\n",
       "      <td>2020-02-29</td>\n",
       "      <td>2020-02-29</td>\n",
       "    </tr>\n",
       "    <tr>\n",
       "      <th>9</th>\n",
       "      <td>10</td>\n",
       "      <td>10</td>\n",
       "      <td>Henry Farm</td>\n",
       "      <td>M2J</td>\n",
       "      <td>CONFIRMED</td>\n",
       "      <td>2020-02-26</td>\n",
       "      <td>2020-03-01</td>\n",
       "    </tr>\n",
       "  </tbody>\n",
       "</table>\n",
       "</div>"
      ],
      "text/plain": [
       "   _id  Assigned_ID     Neighbourhood Name  FSA Classification Episode Date  \\\n",
       "0    1            1        Willowdale East  M2N      CONFIRMED   2020-01-22   \n",
       "1    2            2        Willowdale East  M2N      CONFIRMED   2020-01-21   \n",
       "2    3            3      Parkwoods-Donalda  M3A      CONFIRMED   2020-02-05   \n",
       "3    4            4  Church-Yonge Corridor  M4W      CONFIRMED   2020-02-16   \n",
       "4    5            5  Church-Yonge Corridor  M4W      CONFIRMED   2020-02-20   \n",
       "5    6            6       Newtonbrook West  M2R      CONFIRMED   2020-02-24   \n",
       "6    7            7               Milliken  M1V      CONFIRMED   2020-02-20   \n",
       "7    8            8        Willowdale West  M2N      CONFIRMED   2020-02-21   \n",
       "8    9            9        Willowdale East  M2N      CONFIRMED   2020-02-29   \n",
       "9   10           10             Henry Farm  M2J      CONFIRMED   2020-02-26   \n",
       "\n",
       "  Reported Date  \n",
       "0    2020-01-23  \n",
       "1    2020-01-23  \n",
       "2    2020-02-21  \n",
       "3    2020-02-25  \n",
       "4    2020-02-26  \n",
       "5    2020-02-27  \n",
       "6    2020-02-28  \n",
       "7    2020-03-04  \n",
       "8    2020-02-29  \n",
       "9    2020-03-01  "
      ]
     },
     "execution_count": 55,
     "metadata": {},
     "output_type": "execute_result"
    }
   ],
   "source": [
    "## LOCAL ONLY\n",
    "\n",
    "# reload covid data\n",
    "path = os.path.join('data','raw')\n",
    "fn = 'covidData.csv.gz'\n",
    "covid = pd.read_csv(os.path.join(path,fn), compression='gzip', low_memory=False)\n",
    "\n",
    "# have a look at data\n",
    "covid.head(10)"
   ]
  },
  {
   "cell_type": "code",
   "execution_count": 56,
   "metadata": {},
   "outputs": [
    {
     "data": {
      "text/plain": [
       "Neighbourhood Name    8450\n",
       "FSA                   4584\n",
       "Reported Date            0\n",
       "Episode Date             0\n",
       "Classification           0\n",
       "Assigned_ID              0\n",
       "_id                      0\n",
       "dtype: int64"
      ]
     },
     "execution_count": 56,
     "metadata": {},
     "output_type": "execute_result"
    }
   ],
   "source": [
    "# count nulls by columns to identify if there are any problems\n",
    "covid.isnull().sum(axis=0).sort_values(ascending=False)"
   ]
  },
  {
   "cell_type": "code",
   "execution_count": 57,
   "metadata": {},
   "outputs": [
    {
     "data": {
      "text/plain": [
       "310636    2\n",
       "273398    2\n",
       "262762    2\n",
       "267075    2\n",
       "81869     2\n",
       "         ..\n",
       "206484    0\n",
       "206485    0\n",
       "206486    0\n",
       "206487    0\n",
       "0         0\n",
       "Length: 313961, dtype: int64"
      ]
     },
     "execution_count": 57,
     "metadata": {},
     "output_type": "execute_result"
    }
   ],
   "source": [
    "# count nulls by rows\n",
    "covid.isnull().sum(axis=1).sort_values(ascending=False)"
   ]
  },
  {
   "cell_type": "code",
   "execution_count": 58,
   "metadata": {},
   "outputs": [
    {
     "data": {
      "text/html": [
       "<div>\n",
       "<style scoped>\n",
       "    .dataframe tbody tr th:only-of-type {\n",
       "        vertical-align: middle;\n",
       "    }\n",
       "\n",
       "    .dataframe tbody tr th {\n",
       "        vertical-align: top;\n",
       "    }\n",
       "\n",
       "    .dataframe thead th {\n",
       "        text-align: right;\n",
       "    }\n",
       "</style>\n",
       "<table border=\"1\" class=\"dataframe\">\n",
       "  <thead>\n",
       "    <tr style=\"text-align: right;\">\n",
       "      <th></th>\n",
       "      <th>_id</th>\n",
       "      <th>Assigned_ID</th>\n",
       "      <th>Neighbourhood Name</th>\n",
       "      <th>FSA</th>\n",
       "      <th>Classification</th>\n",
       "      <th>Episode Date</th>\n",
       "      <th>Reported Date</th>\n",
       "    </tr>\n",
       "  </thead>\n",
       "  <tbody>\n",
       "    <tr>\n",
       "      <th>0</th>\n",
       "      <td>1</td>\n",
       "      <td>1</td>\n",
       "      <td>Willowdale East</td>\n",
       "      <td>M2N</td>\n",
       "      <td>CONFIRMED</td>\n",
       "      <td>2020-01-22</td>\n",
       "      <td>2020-01-23</td>\n",
       "    </tr>\n",
       "    <tr>\n",
       "      <th>1</th>\n",
       "      <td>2</td>\n",
       "      <td>2</td>\n",
       "      <td>Willowdale East</td>\n",
       "      <td>M2N</td>\n",
       "      <td>CONFIRMED</td>\n",
       "      <td>2020-01-21</td>\n",
       "      <td>2020-01-23</td>\n",
       "    </tr>\n",
       "    <tr>\n",
       "      <th>2</th>\n",
       "      <td>3</td>\n",
       "      <td>3</td>\n",
       "      <td>Parkwoods-Donalda</td>\n",
       "      <td>M3A</td>\n",
       "      <td>CONFIRMED</td>\n",
       "      <td>2020-02-05</td>\n",
       "      <td>2020-02-21</td>\n",
       "    </tr>\n",
       "    <tr>\n",
       "      <th>3</th>\n",
       "      <td>4</td>\n",
       "      <td>4</td>\n",
       "      <td>Church-Yonge Corridor</td>\n",
       "      <td>M4W</td>\n",
       "      <td>CONFIRMED</td>\n",
       "      <td>2020-02-16</td>\n",
       "      <td>2020-02-25</td>\n",
       "    </tr>\n",
       "    <tr>\n",
       "      <th>4</th>\n",
       "      <td>5</td>\n",
       "      <td>5</td>\n",
       "      <td>Church-Yonge Corridor</td>\n",
       "      <td>M4W</td>\n",
       "      <td>CONFIRMED</td>\n",
       "      <td>2020-02-20</td>\n",
       "      <td>2020-02-26</td>\n",
       "    </tr>\n",
       "  </tbody>\n",
       "</table>\n",
       "</div>"
      ],
      "text/plain": [
       "   _id  Assigned_ID     Neighbourhood Name  FSA Classification Episode Date  \\\n",
       "0    1            1        Willowdale East  M2N      CONFIRMED   2020-01-22   \n",
       "1    2            2        Willowdale East  M2N      CONFIRMED   2020-01-21   \n",
       "2    3            3      Parkwoods-Donalda  M3A      CONFIRMED   2020-02-05   \n",
       "3    4            4  Church-Yonge Corridor  M4W      CONFIRMED   2020-02-16   \n",
       "4    5            5  Church-Yonge Corridor  M4W      CONFIRMED   2020-02-20   \n",
       "\n",
       "  Reported Date  \n",
       "0    2020-01-23  \n",
       "1    2020-01-23  \n",
       "2    2020-02-21  \n",
       "3    2020-02-25  \n",
       "4    2020-02-26  "
      ]
     },
     "execution_count": 58,
     "metadata": {},
     "output_type": "execute_result"
    }
   ],
   "source": [
    "# many null values\n",
    "# let's look at remaining columns in more detail to see if we can drop more\n",
    "covid.head()[['_id', 'Assigned_ID', 'Neighbourhood Name', 'FSA', 'Classification', 'Episode Date', 'Reported Date']]"
   ]
  },
  {
   "cell_type": "code",
   "execution_count": 59,
   "metadata": {},
   "outputs": [
    {
     "name": "stdout",
     "output_type": "stream",
     "text": [
      "<class 'pandas.core.frame.DataFrame'>\n",
      "RangeIndex: 313961 entries, 0 to 313960\n",
      "Data columns (total 3 columns):\n",
      " #   Column          Non-Null Count   Dtype \n",
      "---  ------          --------------   ----- \n",
      " 0   _id             313961 non-null  int64 \n",
      " 1   Classification  313961 non-null  object\n",
      " 2   Reported Date   313961 non-null  object\n",
      "dtypes: int64(1), object(2)\n",
      "memory usage: 7.2+ MB\n"
     ]
    }
   ],
   "source": [
    "# Data review\n",
    "# 1. ids - 2 fields\n",
    "    # the _id and Assigned_ID fields seem to be identical and have the same amount\n",
    "    # however, documentation suggests Assigned_ID is from Toronto Public Health, not the database, and cases can disappear\n",
    "    # based on this, we will delete Assigned_ID\n",
    "\n",
    "# 2. Locations - 2 fields\n",
    "    # the Neighbourhood Name and Forward Sortation Area (FSA) fields both can be used to geolocate the cases\n",
    "    # documentation suggests that the FSA field and Census Tracts (CTs) were used to determine the Neighbourhood Name\n",
    "    # documentation also mentions that neighbourhood information is missing for cases with missing postalcodes\n",
    "    # for our purposes aggregate numbers are okay and we don't need to geolocate so we will drop both of these fields \n",
    "\n",
    "# 3. Status - 1 field\n",
    "    # According to the documentation, the Classification field classifies cases as either confirmed or probable\n",
    "    # as with above, for our purposes, aggregate numbers are okay, we will delete probable cases and keep confirmed\n",
    "    \n",
    "# 4. dates - 2 fields\n",
    "    # we do not need both of these dates, so we will keep the reported date as an official record and drop the episode date\n",
    "    # change reported date to reported_date for ease\n",
    "    \n",
    "# drop columns we don't need\n",
    "cols2drop7 = ['Assigned_ID', 'Neighbourhood Name', 'FSA', 'Episode Date']\n",
    "for col in covid.columns:\n",
    "    if col in cols2drop7:\n",
    "        covid.drop(col, inplace=True, axis=1)\n",
    "        \n",
    "# confirm reduced dataframe\n",
    "covid.info()"
   ]
  },
  {
   "cell_type": "code",
   "execution_count": 60,
   "metadata": {},
   "outputs": [
    {
     "name": "stdout",
     "output_type": "stream",
     "text": [
      "['_id', 'Classification', 'Reported Date']\n"
     ]
    }
   ],
   "source": [
    "# check column names again - makes copying text for later steps easier\n",
    "print(list(covid.columns.values))"
   ]
  },
  {
   "cell_type": "code",
   "execution_count": 61,
   "metadata": {},
   "outputs": [
    {
     "data": {
      "text/plain": [
       "Reported Date     0\n",
       "Classification    0\n",
       "_id               0\n",
       "dtype: int64"
      ]
     },
     "execution_count": 61,
     "metadata": {},
     "output_type": "execute_result"
    }
   ],
   "source": [
    "# count nulls by columns to identify if there are any problems\n",
    "covid.isnull().sum(axis=0).sort_values(ascending=False)"
   ]
  },
  {
   "cell_type": "code",
   "execution_count": 62,
   "metadata": {},
   "outputs": [
    {
     "data": {
      "text/plain": [
       "313960    0\n",
       "104656    0\n",
       "104649    0\n",
       "104650    0\n",
       "104651    0\n",
       "         ..\n",
       "209306    0\n",
       "209307    0\n",
       "209308    0\n",
       "209309    0\n",
       "0         0\n",
       "Length: 313961, dtype: int64"
      ]
     },
     "execution_count": 62,
     "metadata": {},
     "output_type": "execute_result"
    }
   ],
   "source": [
    "# count nulls by rows\n",
    "covid.isnull().sum(axis=1).sort_values(ascending=False)"
   ]
  },
  {
   "cell_type": "code",
   "execution_count": 63,
   "metadata": {},
   "outputs": [
    {
     "data": {
      "text/plain": [
       "CONFIRMED    303165\n",
       "PROBABLE      10796\n",
       "Name: Classification, dtype: int64"
      ]
     },
     "execution_count": 63,
     "metadata": {},
     "output_type": "execute_result"
    }
   ],
   "source": [
    "# no more nulls - perfect!\n",
    "# check classification counts \n",
    "covid.Classification.value_counts()"
   ]
  },
  {
   "cell_type": "code",
   "execution_count": 64,
   "metadata": {},
   "outputs": [
    {
     "name": "stdout",
     "output_type": "stream",
     "text": [
      "<class 'pandas.core.frame.DataFrame'>\n",
      "Int64Index: 303165 entries, 0 to 313959\n",
      "Data columns (total 3 columns):\n",
      " #   Column          Non-Null Count   Dtype \n",
      "---  ------          --------------   ----- \n",
      " 0   _id             303165 non-null  int64 \n",
      " 1   Classification  303165 non-null  object\n",
      " 2   Reported Date   303165 non-null  object\n",
      "dtypes: int64(1), object(2)\n",
      "memory usage: 9.3+ MB\n"
     ]
    }
   ],
   "source": [
    "# remove PROBABLE cases, keep CONFIRMED cases\n",
    "covid = covid[covid.Classification != 'PROBABLE']\n",
    "\n",
    "# confirm reduced dataframe\n",
    "covid.info()"
   ]
  },
  {
   "cell_type": "code",
   "execution_count": 65,
   "metadata": {},
   "outputs": [
    {
     "data": {
      "text/plain": [
       "CONFIRMED    303165\n",
       "Name: Classification, dtype: int64"
      ]
     },
     "execution_count": 65,
     "metadata": {},
     "output_type": "execute_result"
    }
   ],
   "source": [
    "# check counts\n",
    "covid.Classification.value_counts()"
   ]
  },
  {
   "cell_type": "code",
   "execution_count": 66,
   "metadata": {},
   "outputs": [
    {
     "name": "stdout",
     "output_type": "stream",
     "text": [
      "<class 'pandas.core.frame.DataFrame'>\n",
      "Int64Index: 303165 entries, 0 to 313959\n",
      "Data columns (total 3 columns):\n",
      " #   Column          Non-Null Count   Dtype \n",
      "---  ------          --------------   ----- \n",
      " 0   _id             303165 non-null  int64 \n",
      " 1   Classification  303165 non-null  object\n",
      " 2   ReportedDate    303165 non-null  object\n",
      "dtypes: int64(1), object(2)\n",
      "memory usage: 9.3+ MB\n"
     ]
    }
   ],
   "source": [
    "# rename reported date field\n",
    "covid.rename(columns = {'Reported Date':'ReportedDate'}, inplace = True)\n",
    "\n",
    "# confirm changes\n",
    "covid.info()"
   ]
  },
  {
   "cell_type": "code",
   "execution_count": 67,
   "metadata": {},
   "outputs": [
    {
     "data": {
      "text/html": [
       "<div>\n",
       "<style scoped>\n",
       "    .dataframe tbody tr th:only-of-type {\n",
       "        vertical-align: middle;\n",
       "    }\n",
       "\n",
       "    .dataframe tbody tr th {\n",
       "        vertical-align: top;\n",
       "    }\n",
       "\n",
       "    .dataframe thead th {\n",
       "        text-align: right;\n",
       "    }\n",
       "</style>\n",
       "<table border=\"1\" class=\"dataframe\">\n",
       "  <thead>\n",
       "    <tr style=\"text-align: right;\">\n",
       "      <th></th>\n",
       "      <th>ReportedDate</th>\n",
       "      <th>CasesPerDay</th>\n",
       "    </tr>\n",
       "  </thead>\n",
       "  <tbody>\n",
       "    <tr>\n",
       "      <th>676</th>\n",
       "      <td>2021-12-31</td>\n",
       "      <td>4393</td>\n",
       "    </tr>\n",
       "    <tr>\n",
       "      <th>675</th>\n",
       "      <td>2021-12-30</td>\n",
       "      <td>4381</td>\n",
       "    </tr>\n",
       "    <tr>\n",
       "      <th>674</th>\n",
       "      <td>2021-12-29</td>\n",
       "      <td>4068</td>\n",
       "    </tr>\n",
       "    <tr>\n",
       "      <th>677</th>\n",
       "      <td>2022-01-01</td>\n",
       "      <td>3528</td>\n",
       "    </tr>\n",
       "    <tr>\n",
       "      <th>673</th>\n",
       "      <td>2021-12-28</td>\n",
       "      <td>3420</td>\n",
       "    </tr>\n",
       "    <tr>\n",
       "      <th>...</th>\n",
       "      <td>...</td>\n",
       "      <td>...</td>\n",
       "    </tr>\n",
       "    <tr>\n",
       "      <th>6</th>\n",
       "      <td>2020-02-29</td>\n",
       "      <td>1</td>\n",
       "    </tr>\n",
       "    <tr>\n",
       "      <th>5</th>\n",
       "      <td>2020-02-28</td>\n",
       "      <td>1</td>\n",
       "    </tr>\n",
       "    <tr>\n",
       "      <th>4</th>\n",
       "      <td>2020-02-27</td>\n",
       "      <td>1</td>\n",
       "    </tr>\n",
       "    <tr>\n",
       "      <th>3</th>\n",
       "      <td>2020-02-26</td>\n",
       "      <td>1</td>\n",
       "    </tr>\n",
       "    <tr>\n",
       "      <th>2</th>\n",
       "      <td>2020-02-25</td>\n",
       "      <td>1</td>\n",
       "    </tr>\n",
       "  </tbody>\n",
       "</table>\n",
       "<p>785 rows × 2 columns</p>\n",
       "</div>"
      ],
      "text/plain": [
       "    ReportedDate  CasesPerDay\n",
       "676   2021-12-31         4393\n",
       "675   2021-12-30         4381\n",
       "674   2021-12-29         4068\n",
       "677   2022-01-01         3528\n",
       "673   2021-12-28         3420\n",
       "..           ...          ...\n",
       "6     2020-02-29            1\n",
       "5     2020-02-28            1\n",
       "4     2020-02-27            1\n",
       "3     2020-02-26            1\n",
       "2     2020-02-25            1\n",
       "\n",
       "[785 rows x 2 columns]"
      ]
     },
     "execution_count": 67,
     "metadata": {},
     "output_type": "execute_result"
    }
   ],
   "source": [
    "# the last thing we want to do is to get a summary count of all confirmed cases per day\n",
    "casesperday = covid.groupby(['ReportedDate']).size().reset_index(name='CasesPerDay')\n",
    "casesperday = casesperday.sort_values(by=['CasesPerDay'], ascending=False)\n",
    "casesperday"
   ]
  },
  {
   "cell_type": "code",
   "execution_count": 68,
   "metadata": {},
   "outputs": [
    {
     "name": "stdout",
     "output_type": "stream",
     "text": [
      "<class 'pandas.core.frame.DataFrame'>\n",
      "Int64Index: 785 entries, 676 to 2\n",
      "Data columns (total 2 columns):\n",
      " #   Column        Non-Null Count  Dtype         \n",
      "---  ------        --------------  -----         \n",
      " 0   ReportedDate  785 non-null    datetime64[ns]\n",
      " 1   CasesPerDay   785 non-null    int64         \n",
      "dtypes: datetime64[ns](1), int64(1)\n",
      "memory usage: 18.4 KB\n"
     ]
    }
   ],
   "source": [
    "# convert ReportedDate to datetime\n",
    "casesperday['ReportedDate'] = pd.to_datetime(casesperday.ReportedDate.values, infer_datetime_format=True)\n",
    "\n",
    "# confirm changes\n",
    "casesperday.info()"
   ]
  },
  {
   "cell_type": "markdown",
   "metadata": {},
   "source": [
    "### Save Cleaned COVID Data"
   ]
  },
  {
   "cell_type": "code",
   "execution_count": 69,
   "metadata": {},
   "outputs": [
    {
     "name": "stdout",
     "output_type": "stream",
     "text": [
      "Writing to: covidData.csv.gz\n",
      "Done.\n"
     ]
    }
   ],
   "source": [
    "## LOCAL ONLY\n",
    "\n",
    "# save cleaned covid case data\n",
    "path = os.path.join('data','clean')\n",
    "fn = 'covidData.csv.gz'\n",
    "print(f\"Writing to: {fn}\")\n",
    "\n",
    "if not os.path.exists(path):\n",
    "    print(f\"Creating {path} under {os.getcwd()}\")\n",
    "    os.makedirs(path)\n",
    "    \n",
    "casesperday.to_csv(os.path.join(path,fn), index=False, compression=\"gzip\")\n",
    "print(\"Done.\")"
   ]
  },
  {
   "cell_type": "markdown",
   "metadata": {},
   "source": [
    "# Key Dates"
   ]
  },
  {
   "cell_type": "markdown",
   "metadata": {},
   "source": [
    "### Load Key Dates Data"
   ]
  },
  {
   "cell_type": "code",
   "execution_count": 70,
   "metadata": {},
   "outputs": [
    {
     "data": {
      "text/html": [
       "<div>\n",
       "<style scoped>\n",
       "    .dataframe tbody tr th:only-of-type {\n",
       "        vertical-align: middle;\n",
       "    }\n",
       "\n",
       "    .dataframe tbody tr th {\n",
       "        vertical-align: top;\n",
       "    }\n",
       "\n",
       "    .dataframe thead th {\n",
       "        text-align: right;\n",
       "    }\n",
       "</style>\n",
       "<table border=\"1\" class=\"dataframe\">\n",
       "  <thead>\n",
       "    <tr style=\"text-align: right;\">\n",
       "      <th></th>\n",
       "      <th>Date</th>\n",
       "      <th>Event</th>\n",
       "      <th>Lockdown</th>\n",
       "      <th>LockdownDates</th>\n",
       "      <th>KeyDates</th>\n",
       "    </tr>\n",
       "  </thead>\n",
       "  <tbody>\n",
       "    <tr>\n",
       "      <th>0</th>\n",
       "      <td>2020-03-12</td>\n",
       "      <td>Ontario closes all public schools.</td>\n",
       "      <td>None</td>\n",
       "      <td>0</td>\n",
       "      <td>1</td>\n",
       "    </tr>\n",
       "    <tr>\n",
       "      <th>1</th>\n",
       "      <td>2020-03-13</td>\n",
       "      <td>Toronto’s universities cancel all in-person cl...</td>\n",
       "      <td>None</td>\n",
       "      <td>0</td>\n",
       "      <td>1</td>\n",
       "    </tr>\n",
       "    <tr>\n",
       "      <th>2</th>\n",
       "      <td>2020-03-15</td>\n",
       "      <td>Ontario places all non-essential care and elec...</td>\n",
       "      <td>None</td>\n",
       "      <td>0</td>\n",
       "      <td>1</td>\n",
       "    </tr>\n",
       "    <tr>\n",
       "      <th>3</th>\n",
       "      <td>2020-03-17</td>\n",
       "      <td>Ontario declares a provincial state of emergen...</td>\n",
       "      <td>None</td>\n",
       "      <td>0</td>\n",
       "      <td>1</td>\n",
       "    </tr>\n",
       "    <tr>\n",
       "      <th>4</th>\n",
       "      <td>2020-03-18</td>\n",
       "      <td>Canada closes its international border and Can...</td>\n",
       "      <td>None</td>\n",
       "      <td>0</td>\n",
       "      <td>1</td>\n",
       "    </tr>\n",
       "    <tr>\n",
       "      <th>5</th>\n",
       "      <td>2020-03-20</td>\n",
       "      <td>Air Canada, Westjet, Air Transat and Greyhound...</td>\n",
       "      <td>None</td>\n",
       "      <td>0</td>\n",
       "      <td>0</td>\n",
       "    </tr>\n",
       "    <tr>\n",
       "      <th>6</th>\n",
       "      <td>2020-03-23</td>\n",
       "      <td>Ontario orders emergency closure of all non-es...</td>\n",
       "      <td>First</td>\n",
       "      <td>1</td>\n",
       "      <td>1</td>\n",
       "    </tr>\n",
       "    <tr>\n",
       "      <th>7</th>\n",
       "      <td>2020-03-24</td>\n",
       "      <td>Pursuant to the declared emergency, a new orde...</td>\n",
       "      <td>First</td>\n",
       "      <td>0</td>\n",
       "      <td>0</td>\n",
       "    </tr>\n",
       "    <tr>\n",
       "      <th>8</th>\n",
       "      <td>2020-03-25</td>\n",
       "      <td>Toronto closes all city-owned playgrounds and ...</td>\n",
       "      <td>First</td>\n",
       "      <td>0</td>\n",
       "      <td>1</td>\n",
       "    </tr>\n",
       "    <tr>\n",
       "      <th>9</th>\n",
       "      <td>2020-03-27</td>\n",
       "      <td>Travellers returning to Ontario are required t...</td>\n",
       "      <td>First</td>\n",
       "      <td>0</td>\n",
       "      <td>0</td>\n",
       "    </tr>\n",
       "  </tbody>\n",
       "</table>\n",
       "</div>"
      ],
      "text/plain": [
       "         Date                                              Event Lockdown  \\\n",
       "0  2020-03-12                 Ontario closes all public schools.     None   \n",
       "1  2020-03-13  Toronto’s universities cancel all in-person cl...     None   \n",
       "2  2020-03-15  Ontario places all non-essential care and elec...     None   \n",
       "3  2020-03-17  Ontario declares a provincial state of emergen...     None   \n",
       "4  2020-03-18  Canada closes its international border and Can...     None   \n",
       "5  2020-03-20  Air Canada, Westjet, Air Transat and Greyhound...     None   \n",
       "6  2020-03-23  Ontario orders emergency closure of all non-es...    First   \n",
       "7  2020-03-24  Pursuant to the declared emergency, a new orde...    First   \n",
       "8  2020-03-25  Toronto closes all city-owned playgrounds and ...    First   \n",
       "9  2020-03-27  Travellers returning to Ontario are required t...    First   \n",
       "\n",
       "   LockdownDates  KeyDates  \n",
       "0              0         1  \n",
       "1              0         1  \n",
       "2              0         1  \n",
       "3              0         1  \n",
       "4              0         1  \n",
       "5              0         0  \n",
       "6              1         1  \n",
       "7              0         0  \n",
       "8              0         1  \n",
       "9              0         0  "
      ]
     },
     "execution_count": 70,
     "metadata": {},
     "output_type": "execute_result"
    }
   ],
   "source": [
    "## LOCAL ONLY\n",
    "\n",
    "# now let's look at key dates\n",
    "# load key dates data into a pandas dataframe\n",
    "\n",
    "path = os.path.join('data','raw')\n",
    "fn = 'keyDates.csv'\n",
    "kd = pd.read_csv(os.path.join(path,fn), low_memory=False)\n",
    "\n",
    "# have a look at data\n",
    "kd.head(10)"
   ]
  },
  {
   "cell_type": "code",
   "execution_count": 71,
   "metadata": {},
   "outputs": [
    {
     "name": "stdout",
     "output_type": "stream",
     "text": [
      "<class 'pandas.core.frame.DataFrame'>\n",
      "RangeIndex: 115 entries, 0 to 114\n",
      "Data columns (total 5 columns):\n",
      " #   Column         Non-Null Count  Dtype \n",
      "---  ------         --------------  ----- \n",
      " 0   Date           115 non-null    object\n",
      " 1   Event          115 non-null    object\n",
      " 2   Lockdown       115 non-null    object\n",
      " 3   LockdownDates  115 non-null    int64 \n",
      " 4   KeyDates       115 non-null    int64 \n",
      "dtypes: int64(2), object(3)\n",
      "memory usage: 4.6+ KB\n"
     ]
    }
   ],
   "source": [
    "# check dataframe\n",
    "kd.info()"
   ]
  },
  {
   "cell_type": "code",
   "execution_count": 72,
   "metadata": {},
   "outputs": [],
   "source": [
    "# Data review\n",
    "\n",
    "# 1. dates - 3 fields\n",
    "    # Date field - refers to date of event (see keydates) - will convert to datetime and change to eventDate\n",
    "    # LockdownDates - is binary - refers to the dates the lockdowns began and ended - will be used for visualization (red line) - will leave as int\n",
    "    # KeyDates - is binary - refers to key events for headlines in the visualization - will leave as int - change to keyEvents\n",
    "    \n",
    "# 2. Event - 1 field\n",
    "    # can be used as headlines or scrolling tickers for the visualization\n",
    "    # will change name to eventHeadline\n",
    "    \n",
    "# 3. cateogrical fields - 1 fields\n",
    "    # Lockdown field - represents which lockdown\n",
    "    # we will convert this to category and change to lockdownNo"
   ]
  },
  {
   "cell_type": "markdown",
   "metadata": {},
   "source": [
    "### Clean Key Dates"
   ]
  },
  {
   "cell_type": "code",
   "execution_count": 73,
   "metadata": {},
   "outputs": [
    {
     "name": "stdout",
     "output_type": "stream",
     "text": [
      "<class 'pandas.core.frame.DataFrame'>\n",
      "RangeIndex: 115 entries, 0 to 114\n",
      "Data columns (total 5 columns):\n",
      " #   Column         Non-Null Count  Dtype \n",
      "---  ------         --------------  ----- \n",
      " 0   eventDate      115 non-null    object\n",
      " 1   eventHeadline  115 non-null    object\n",
      " 2   lockdownNo     115 non-null    object\n",
      " 3   lockdownDates  115 non-null    int64 \n",
      " 4   keyEvents      115 non-null    int64 \n",
      "dtypes: int64(2), object(3)\n",
      "memory usage: 4.6+ KB\n"
     ]
    }
   ],
   "source": [
    "# rename columns\n",
    "kd.rename(columns = {'Date':'eventDate', 'Event':'eventHeadline', 'Lockdown':'lockdownNo', 'LockdownDates':'lockdownDates', 'KeyDates':'keyEvents'}, inplace = True)\n",
    "\n",
    "# confirm changes\n",
    "kd.info()"
   ]
  },
  {
   "cell_type": "code",
   "execution_count": 74,
   "metadata": {},
   "outputs": [
    {
     "name": "stdout",
     "output_type": "stream",
     "text": [
      "<class 'pandas.core.frame.DataFrame'>\n",
      "RangeIndex: 115 entries, 0 to 114\n",
      "Data columns (total 5 columns):\n",
      " #   Column         Non-Null Count  Dtype   \n",
      "---  ------         --------------  -----   \n",
      " 0   eventDate      115 non-null    object  \n",
      " 1   eventHeadline  115 non-null    object  \n",
      " 2   lockdownNo     115 non-null    category\n",
      " 3   lockdownDates  115 non-null    int64   \n",
      " 4   keyEvents      115 non-null    int64   \n",
      "dtypes: category(1), int64(2), object(2)\n",
      "memory usage: 4.0+ KB\n"
     ]
    }
   ],
   "source": [
    "# convert datatypes\n",
    "for c in ['lockdownNo']:\n",
    "    kd[c] = kd[c].astype('category')\n",
    "    \n",
    "# confirm conversion to categories\n",
    "kd.info()"
   ]
  },
  {
   "cell_type": "markdown",
   "metadata": {},
   "source": [
    "### Save Cleaned Key Dates"
   ]
  },
  {
   "cell_type": "code",
   "execution_count": 75,
   "metadata": {},
   "outputs": [
    {
     "name": "stdout",
     "output_type": "stream",
     "text": [
      "Writing to: keyDates.csv\n",
      "Done.\n"
     ]
    }
   ],
   "source": [
    "## LOCAL ONLY\n",
    "\n",
    "# save cleaned key dates data\n",
    "path = os.path.join('data','clean')\n",
    "fn = 'keyDates.csv'\n",
    "print(f\"Writing to: {fn}\")\n",
    "\n",
    "if not os.path.exists(path):\n",
    "    print(f\"Creating {path} under {os.getcwd()}\")\n",
    "    os.makedirs(path)\n",
    "    \n",
    "kd.to_csv(os.path.join(path,fn), index=False)\n",
    "print(\"Done.\")"
   ]
  },
  {
   "cell_type": "markdown",
   "metadata": {},
   "source": [
    "# Neighbourhood Boundaries"
   ]
  },
  {
   "cell_type": "markdown",
   "metadata": {},
   "source": [
    "### Load Neighbourhood data"
   ]
  },
  {
   "cell_type": "code",
   "execution_count": 76,
   "metadata": {},
   "outputs": [
    {
     "data": {
      "text/html": [
       "<div>\n",
       "<style scoped>\n",
       "    .dataframe tbody tr th:only-of-type {\n",
       "        vertical-align: middle;\n",
       "    }\n",
       "\n",
       "    .dataframe tbody tr th {\n",
       "        vertical-align: top;\n",
       "    }\n",
       "\n",
       "    .dataframe thead th {\n",
       "        text-align: right;\n",
       "    }\n",
       "</style>\n",
       "<table border=\"1\" class=\"dataframe\">\n",
       "  <thead>\n",
       "    <tr style=\"text-align: right;\">\n",
       "      <th></th>\n",
       "      <th>_id</th>\n",
       "      <th>AREA_ID</th>\n",
       "      <th>AREA_ATTR_ID</th>\n",
       "      <th>PARENT_AREA_ID</th>\n",
       "      <th>AREA_SHORT_CODE</th>\n",
       "      <th>AREA_LONG_CODE</th>\n",
       "      <th>AREA_NAME</th>\n",
       "      <th>AREA_DESC</th>\n",
       "      <th>CLASSIFICATION</th>\n",
       "      <th>CLASSIFICATION_CODE</th>\n",
       "      <th>OBJECTID</th>\n",
       "      <th>geometry</th>\n",
       "    </tr>\n",
       "  </thead>\n",
       "  <tbody>\n",
       "    <tr>\n",
       "      <th>0</th>\n",
       "      <td>1</td>\n",
       "      <td>2487173</td>\n",
       "      <td>26010508</td>\n",
       "      <td>None</td>\n",
       "      <td>93</td>\n",
       "      <td>93</td>\n",
       "      <td>Dovercourt-Wallace Emerson-Junction (93)</td>\n",
       "      <td>Dovercourt-Wallace Emerson-Junction (93)</td>\n",
       "      <td>None</td>\n",
       "      <td>None</td>\n",
       "      <td>17626305</td>\n",
       "      <td>POLYGON ((-79.41842 43.66358, -79.41887 43.663...</td>\n",
       "    </tr>\n",
       "    <tr>\n",
       "      <th>1</th>\n",
       "      <td>2</td>\n",
       "      <td>2487172</td>\n",
       "      <td>26010507</td>\n",
       "      <td>None</td>\n",
       "      <td>121</td>\n",
       "      <td>121</td>\n",
       "      <td>Oakridge (121)</td>\n",
       "      <td>Oakridge (121)</td>\n",
       "      <td>Neighbourhood Improvement Area</td>\n",
       "      <td>NIA</td>\n",
       "      <td>17626321</td>\n",
       "      <td>POLYGON ((-79.26986 43.69584, -79.27009 43.695...</td>\n",
       "    </tr>\n",
       "    <tr>\n",
       "      <th>2</th>\n",
       "      <td>3</td>\n",
       "      <td>2487171</td>\n",
       "      <td>26010506</td>\n",
       "      <td>None</td>\n",
       "      <td>110</td>\n",
       "      <td>110</td>\n",
       "      <td>Keelesdale-Eglinton West (110)</td>\n",
       "      <td>Keelesdale-Eglinton West (110)</td>\n",
       "      <td>Neighbourhood Improvement Area</td>\n",
       "      <td>NIA</td>\n",
       "      <td>17626337</td>\n",
       "      <td>POLYGON ((-79.47242 43.67922, -79.47277 43.679...</td>\n",
       "    </tr>\n",
       "    <tr>\n",
       "      <th>3</th>\n",
       "      <td>4</td>\n",
       "      <td>2487170</td>\n",
       "      <td>26010505</td>\n",
       "      <td>None</td>\n",
       "      <td>108</td>\n",
       "      <td>108</td>\n",
       "      <td>Briar Hill-Belgravia (108)</td>\n",
       "      <td>Briar Hill-Belgravia (108)</td>\n",
       "      <td>None</td>\n",
       "      <td>None</td>\n",
       "      <td>17626353</td>\n",
       "      <td>POLYGON ((-79.46462 43.69216, -79.46473 43.692...</td>\n",
       "    </tr>\n",
       "    <tr>\n",
       "      <th>4</th>\n",
       "      <td>5</td>\n",
       "      <td>2487111</td>\n",
       "      <td>26010446</td>\n",
       "      <td>None</td>\n",
       "      <td>45</td>\n",
       "      <td>45</td>\n",
       "      <td>Parkwoods-Donalda (45)</td>\n",
       "      <td>Parkwoods-Donalda (45)</td>\n",
       "      <td>None</td>\n",
       "      <td>None</td>\n",
       "      <td>17626369</td>\n",
       "      <td>POLYGON ((-79.33055 43.73979, -79.33065 43.739...</td>\n",
       "    </tr>\n",
       "  </tbody>\n",
       "</table>\n",
       "</div>"
      ],
      "text/plain": [
       "   _id  AREA_ID  AREA_ATTR_ID PARENT_AREA_ID  AREA_SHORT_CODE  AREA_LONG_CODE  \\\n",
       "0    1  2487173      26010508           None               93              93   \n",
       "1    2  2487172      26010507           None              121             121   \n",
       "2    3  2487171      26010506           None              110             110   \n",
       "3    4  2487170      26010505           None              108             108   \n",
       "4    5  2487111      26010446           None               45              45   \n",
       "\n",
       "                                  AREA_NAME  \\\n",
       "0  Dovercourt-Wallace Emerson-Junction (93)   \n",
       "1                            Oakridge (121)   \n",
       "2            Keelesdale-Eglinton West (110)   \n",
       "3                Briar Hill-Belgravia (108)   \n",
       "4                    Parkwoods-Donalda (45)   \n",
       "\n",
       "                                  AREA_DESC                  CLASSIFICATION  \\\n",
       "0  Dovercourt-Wallace Emerson-Junction (93)                            None   \n",
       "1                            Oakridge (121)  Neighbourhood Improvement Area   \n",
       "2            Keelesdale-Eglinton West (110)  Neighbourhood Improvement Area   \n",
       "3                Briar Hill-Belgravia (108)                            None   \n",
       "4                    Parkwoods-Donalda (45)                            None   \n",
       "\n",
       "  CLASSIFICATION_CODE  OBJECTID  \\\n",
       "0                None  17626305   \n",
       "1                 NIA  17626321   \n",
       "2                 NIA  17626337   \n",
       "3                None  17626353   \n",
       "4                None  17626369   \n",
       "\n",
       "                                            geometry  \n",
       "0  POLYGON ((-79.41842 43.66358, -79.41887 43.663...  \n",
       "1  POLYGON ((-79.26986 43.69584, -79.27009 43.695...  \n",
       "2  POLYGON ((-79.47242 43.67922, -79.47277 43.679...  \n",
       "3  POLYGON ((-79.46462 43.69216, -79.46473 43.692...  \n",
       "4  POLYGON ((-79.33055 43.73979, -79.33065 43.739...  "
      ]
     },
     "execution_count": 76,
     "metadata": {},
     "output_type": "execute_result"
    }
   ],
   "source": [
    "# now let's look at the neighbourhood boundaries\n",
    "# read in json file\n",
    "tor_nbs = gpd.read_file('https://ckan0.cf.opendata.inter.prod-toronto.ca/dataset/4def3f65-2a65-4a4f-83c4-b2a4aed72d46/resource/9ce32bd1-91ac-4422-925a-bdc256702756/download/Neighbourhoods%20-%20historical%20140.geojson')\n",
    "\n",
    "# confirm load\n",
    "tor_nbs.head()"
   ]
  },
  {
   "cell_type": "code",
   "execution_count": 77,
   "metadata": {},
   "outputs": [
    {
     "name": "stdout",
     "output_type": "stream",
     "text": [
      "<class 'geopandas.geodataframe.GeoDataFrame'>\n",
      "RangeIndex: 140 entries, 0 to 139\n",
      "Data columns (total 12 columns):\n",
      " #   Column               Non-Null Count  Dtype   \n",
      "---  ------               --------------  -----   \n",
      " 0   _id                  140 non-null    int64   \n",
      " 1   AREA_ID              140 non-null    int64   \n",
      " 2   AREA_ATTR_ID         140 non-null    int64   \n",
      " 3   PARENT_AREA_ID       0 non-null      object  \n",
      " 4   AREA_SHORT_CODE      140 non-null    int64   \n",
      " 5   AREA_LONG_CODE       140 non-null    int64   \n",
      " 6   AREA_NAME            140 non-null    object  \n",
      " 7   AREA_DESC            140 non-null    object  \n",
      " 8   CLASSIFICATION       140 non-null    object  \n",
      " 9   CLASSIFICATION_CODE  140 non-null    object  \n",
      " 10  OBJECTID             140 non-null    int64   \n",
      " 11  geometry             140 non-null    geometry\n",
      "dtypes: geometry(1), int64(6), object(5)\n",
      "memory usage: 13.2+ KB\n"
     ]
    }
   ],
   "source": [
    "# check data\n",
    "tor_nbs.info()"
   ]
  },
  {
   "cell_type": "code",
   "execution_count": 78,
   "metadata": {},
   "outputs": [
    {
     "name": "stdout",
     "output_type": "stream",
     "text": [
      "['_id', 'AREA_ID', 'AREA_ATTR_ID', 'PARENT_AREA_ID', 'AREA_SHORT_CODE', 'AREA_LONG_CODE', 'AREA_NAME', 'AREA_DESC', 'CLASSIFICATION', 'CLASSIFICATION_CODE', 'OBJECTID', 'geometry']\n"
     ]
    }
   ],
   "source": [
    "# check column names - makes copying text for later steps easier\n",
    "print(list(tor_nbs.columns.values))"
   ]
  },
  {
   "cell_type": "markdown",
   "metadata": {},
   "source": [
    "### Reduce Neighbourhood data"
   ]
  },
  {
   "cell_type": "code",
   "execution_count": 79,
   "metadata": {},
   "outputs": [
    {
     "name": "stdout",
     "output_type": "stream",
     "text": [
      "<class 'geopandas.geodataframe.GeoDataFrame'>\n",
      "RangeIndex: 140 entries, 0 to 139\n",
      "Data columns (total 4 columns):\n",
      " #   Column           Non-Null Count  Dtype   \n",
      "---  ------           --------------  -----   \n",
      " 0   _id              140 non-null    int64   \n",
      " 1   AREA_SHORT_CODE  140 non-null    int64   \n",
      " 2   AREA_NAME        140 non-null    object  \n",
      " 3   geometry         140 non-null    geometry\n",
      "dtypes: geometry(1), int64(2), object(1)\n",
      "memory usage: 4.5+ KB\n"
     ]
    }
   ],
   "source": [
    "# drop columns we don't need - we only need to be able to match neighbourhood geography to Hood_ID and Neighbourhood columns within the crimeData table\n",
    "cols2drop8 = ['AREA_ID', 'AREA_ATTR_ID', 'PARENT_AREA_ID', 'AREA_LONG_CODE', 'AREA_DESC', 'CLASSIFICATION', 'CLASSIFICATION_CODE', 'OBJECTID']\n",
    "for col in tor_nbs.columns:\n",
    "    if col in cols2drop8:\n",
    "        tor_nbs.drop(col, inplace=True, axis=1)\n",
    "        \n",
    "# confirm reduced dataframe\n",
    "tor_nbs.info()"
   ]
  },
  {
   "cell_type": "code",
   "execution_count": 80,
   "metadata": {},
   "outputs": [
    {
     "data": {
      "text/html": [
       "<div>\n",
       "<style scoped>\n",
       "    .dataframe tbody tr th:only-of-type {\n",
       "        vertical-align: middle;\n",
       "    }\n",
       "\n",
       "    .dataframe tbody tr th {\n",
       "        vertical-align: top;\n",
       "    }\n",
       "\n",
       "    .dataframe thead th {\n",
       "        text-align: right;\n",
       "    }\n",
       "</style>\n",
       "<table border=\"1\" class=\"dataframe\">\n",
       "  <thead>\n",
       "    <tr style=\"text-align: right;\">\n",
       "      <th></th>\n",
       "      <th>_id</th>\n",
       "      <th>AREA_SHORT_CODE</th>\n",
       "      <th>AREA_NAME</th>\n",
       "      <th>geometry</th>\n",
       "    </tr>\n",
       "  </thead>\n",
       "  <tbody>\n",
       "    <tr>\n",
       "      <th>0</th>\n",
       "      <td>1</td>\n",
       "      <td>93</td>\n",
       "      <td>Dovercourt-Wallace Emerson-Junction (93)</td>\n",
       "      <td>POLYGON ((-79.41842 43.66358, -79.41887 43.663...</td>\n",
       "    </tr>\n",
       "    <tr>\n",
       "      <th>1</th>\n",
       "      <td>2</td>\n",
       "      <td>121</td>\n",
       "      <td>Oakridge (121)</td>\n",
       "      <td>POLYGON ((-79.26986 43.69584, -79.27009 43.695...</td>\n",
       "    </tr>\n",
       "    <tr>\n",
       "      <th>2</th>\n",
       "      <td>3</td>\n",
       "      <td>110</td>\n",
       "      <td>Keelesdale-Eglinton West (110)</td>\n",
       "      <td>POLYGON ((-79.47242 43.67922, -79.47277 43.679...</td>\n",
       "    </tr>\n",
       "    <tr>\n",
       "      <th>3</th>\n",
       "      <td>4</td>\n",
       "      <td>108</td>\n",
       "      <td>Briar Hill-Belgravia (108)</td>\n",
       "      <td>POLYGON ((-79.46462 43.69216, -79.46473 43.692...</td>\n",
       "    </tr>\n",
       "    <tr>\n",
       "      <th>4</th>\n",
       "      <td>5</td>\n",
       "      <td>45</td>\n",
       "      <td>Parkwoods-Donalda (45)</td>\n",
       "      <td>POLYGON ((-79.33055 43.73979, -79.33065 43.739...</td>\n",
       "    </tr>\n",
       "  </tbody>\n",
       "</table>\n",
       "</div>"
      ],
      "text/plain": [
       "   _id  AREA_SHORT_CODE                                 AREA_NAME  \\\n",
       "0    1               93  Dovercourt-Wallace Emerson-Junction (93)   \n",
       "1    2              121                            Oakridge (121)   \n",
       "2    3              110            Keelesdale-Eglinton West (110)   \n",
       "3    4              108                Briar Hill-Belgravia (108)   \n",
       "4    5               45                    Parkwoods-Donalda (45)   \n",
       "\n",
       "                                            geometry  \n",
       "0  POLYGON ((-79.41842 43.66358, -79.41887 43.663...  \n",
       "1  POLYGON ((-79.26986 43.69584, -79.27009 43.695...  \n",
       "2  POLYGON ((-79.47242 43.67922, -79.47277 43.679...  \n",
       "3  POLYGON ((-79.46462 43.69216, -79.46473 43.692...  \n",
       "4  POLYGON ((-79.33055 43.73979, -79.33065 43.739...  "
      ]
     },
     "execution_count": 80,
     "metadata": {},
     "output_type": "execute_result"
    }
   ],
   "source": [
    "# look at data\n",
    "tor_nbs.head()"
   ]
  },
  {
   "cell_type": "markdown",
   "metadata": {},
   "source": [
    "### Clean Neighbourhood data"
   ]
  },
  {
   "cell_type": "code",
   "execution_count": 81,
   "metadata": {},
   "outputs": [],
   "source": [
    "# data review\n",
    "\n",
    "# 1 - area name field\n",
    "    # we will rename this column to match the 'Neighbourhood' column of our crime data\n",
    "\n",
    "# 2 - area code field\n",
    "    # we will rename this column to match the 'Hood_ID' column of our crime data"
   ]
  },
  {
   "cell_type": "code",
   "execution_count": 82,
   "metadata": {},
   "outputs": [
    {
     "data": {
      "text/html": [
       "<div>\n",
       "<style scoped>\n",
       "    .dataframe tbody tr th:only-of-type {\n",
       "        vertical-align: middle;\n",
       "    }\n",
       "\n",
       "    .dataframe tbody tr th {\n",
       "        vertical-align: top;\n",
       "    }\n",
       "\n",
       "    .dataframe thead th {\n",
       "        text-align: right;\n",
       "    }\n",
       "</style>\n",
       "<table border=\"1\" class=\"dataframe\">\n",
       "  <thead>\n",
       "    <tr style=\"text-align: right;\">\n",
       "      <th></th>\n",
       "      <th>_id</th>\n",
       "      <th>Hood_ID</th>\n",
       "      <th>Neighbourhood</th>\n",
       "      <th>geometry</th>\n",
       "    </tr>\n",
       "  </thead>\n",
       "  <tbody>\n",
       "    <tr>\n",
       "      <th>0</th>\n",
       "      <td>1</td>\n",
       "      <td>93</td>\n",
       "      <td>Dovercourt-Wallace Emerson-Junction (93)</td>\n",
       "      <td>POLYGON ((-79.41842 43.66358, -79.41887 43.663...</td>\n",
       "    </tr>\n",
       "    <tr>\n",
       "      <th>1</th>\n",
       "      <td>2</td>\n",
       "      <td>121</td>\n",
       "      <td>Oakridge (121)</td>\n",
       "      <td>POLYGON ((-79.26986 43.69584, -79.27009 43.695...</td>\n",
       "    </tr>\n",
       "    <tr>\n",
       "      <th>2</th>\n",
       "      <td>3</td>\n",
       "      <td>110</td>\n",
       "      <td>Keelesdale-Eglinton West (110)</td>\n",
       "      <td>POLYGON ((-79.47242 43.67922, -79.47277 43.679...</td>\n",
       "    </tr>\n",
       "    <tr>\n",
       "      <th>3</th>\n",
       "      <td>4</td>\n",
       "      <td>108</td>\n",
       "      <td>Briar Hill-Belgravia (108)</td>\n",
       "      <td>POLYGON ((-79.46462 43.69216, -79.46473 43.692...</td>\n",
       "    </tr>\n",
       "    <tr>\n",
       "      <th>4</th>\n",
       "      <td>5</td>\n",
       "      <td>45</td>\n",
       "      <td>Parkwoods-Donalda (45)</td>\n",
       "      <td>POLYGON ((-79.33055 43.73979, -79.33065 43.739...</td>\n",
       "    </tr>\n",
       "  </tbody>\n",
       "</table>\n",
       "</div>"
      ],
      "text/plain": [
       "   _id  Hood_ID                             Neighbourhood  \\\n",
       "0    1       93  Dovercourt-Wallace Emerson-Junction (93)   \n",
       "1    2      121                            Oakridge (121)   \n",
       "2    3      110            Keelesdale-Eglinton West (110)   \n",
       "3    4      108                Briar Hill-Belgravia (108)   \n",
       "4    5       45                    Parkwoods-Donalda (45)   \n",
       "\n",
       "                                            geometry  \n",
       "0  POLYGON ((-79.41842 43.66358, -79.41887 43.663...  \n",
       "1  POLYGON ((-79.26986 43.69584, -79.27009 43.695...  \n",
       "2  POLYGON ((-79.47242 43.67922, -79.47277 43.679...  \n",
       "3  POLYGON ((-79.46462 43.69216, -79.46473 43.692...  \n",
       "4  POLYGON ((-79.33055 43.73979, -79.33065 43.739...  "
      ]
     },
     "execution_count": 82,
     "metadata": {},
     "output_type": "execute_result"
    }
   ],
   "source": [
    "# rename columns to match our crime data\n",
    "tor_nbs.rename(columns={'AREA_NAME': 'Neighbourhood', 'AREA_SHORT_CODE':'Hood_ID'}, inplace=True)\n",
    "\n",
    "# check to confirm changes\n",
    "tor_nbs.head()"
   ]
  },
  {
   "cell_type": "code",
   "execution_count": 83,
   "metadata": {},
   "outputs": [
    {
     "data": {
      "text/plain": [
       "140"
      ]
     },
     "execution_count": 83,
     "metadata": {},
     "output_type": "execute_result"
    }
   ],
   "source": [
    "# count how many neighbourhoods\n",
    "tor_nbs.Hood_ID.nunique()"
   ]
  },
  {
   "cell_type": "markdown",
   "metadata": {},
   "source": [
    "### Enrich Neighbourhood Data"
   ]
  },
  {
   "cell_type": "code",
   "execution_count": 84,
   "metadata": {},
   "outputs": [
    {
     "data": {
      "text/plain": [
       "(140, 5)"
      ]
     },
     "execution_count": 84,
     "metadata": {},
     "output_type": "execute_result"
    }
   ],
   "source": [
    "# we want to add population data to our neighbourhoods so  we can calculate crimes rates\n",
    "\n",
    "# load neighbourhood population\n",
    "url = 'https://ckan0.cf.opendata.inter.prod-toronto.ca/dataset/15a37448-b27e-44d2-9c2e-52e148c8894f/resource/82a63ca1-dcd3-46fa-a078-ba028b1cb8eb/download/wellbeing-toronto-population-total-2011-2016-and-age-groups-2016.xlsx'\n",
    "pop = pd.read_excel(url, sheet_name='016 Pop_TotalChange')\n",
    "\n",
    "# confirm load\n",
    "pop.shape"
   ]
  },
  {
   "cell_type": "code",
   "execution_count": 85,
   "metadata": {},
   "outputs": [
    {
     "data": {
      "text/html": [
       "<div>\n",
       "<style scoped>\n",
       "    .dataframe tbody tr th:only-of-type {\n",
       "        vertical-align: middle;\n",
       "    }\n",
       "\n",
       "    .dataframe tbody tr th {\n",
       "        vertical-align: top;\n",
       "    }\n",
       "\n",
       "    .dataframe thead th {\n",
       "        text-align: right;\n",
       "    }\n",
       "</style>\n",
       "<table border=\"1\" class=\"dataframe\">\n",
       "  <thead>\n",
       "    <tr style=\"text-align: right;\">\n",
       "      <th></th>\n",
       "      <th>HoodID</th>\n",
       "      <th>Neighbourhood</th>\n",
       "      <th>Pop2016</th>\n",
       "      <th>Pop2011</th>\n",
       "      <th>PopChg11t16</th>\n",
       "    </tr>\n",
       "  </thead>\n",
       "  <tbody>\n",
       "    <tr>\n",
       "      <th>0</th>\n",
       "      <td>1</td>\n",
       "      <td>West Humber-Clairville</td>\n",
       "      <td>33312</td>\n",
       "      <td>34100</td>\n",
       "      <td>-0.023109</td>\n",
       "    </tr>\n",
       "    <tr>\n",
       "      <th>1</th>\n",
       "      <td>2</td>\n",
       "      <td>Mount Olive-Silverstone-Jamestown</td>\n",
       "      <td>32954</td>\n",
       "      <td>32788</td>\n",
       "      <td>0.005063</td>\n",
       "    </tr>\n",
       "    <tr>\n",
       "      <th>2</th>\n",
       "      <td>3</td>\n",
       "      <td>Thistletown-Beaumond Heights</td>\n",
       "      <td>10360</td>\n",
       "      <td>10138</td>\n",
       "      <td>0.021898</td>\n",
       "    </tr>\n",
       "    <tr>\n",
       "      <th>3</th>\n",
       "      <td>4</td>\n",
       "      <td>Rexdale-Kipling</td>\n",
       "      <td>10529</td>\n",
       "      <td>10488</td>\n",
       "      <td>0.003909</td>\n",
       "    </tr>\n",
       "    <tr>\n",
       "      <th>4</th>\n",
       "      <td>5</td>\n",
       "      <td>Elms-Old Rexdale</td>\n",
       "      <td>9456</td>\n",
       "      <td>9550</td>\n",
       "      <td>-0.009843</td>\n",
       "    </tr>\n",
       "  </tbody>\n",
       "</table>\n",
       "</div>"
      ],
      "text/plain": [
       "   HoodID                      Neighbourhood  Pop2016  Pop2011  PopChg11t16\n",
       "0       1             West Humber-Clairville    33312    34100    -0.023109\n",
       "1       2  Mount Olive-Silverstone-Jamestown    32954    32788     0.005063\n",
       "2       3       Thistletown-Beaumond Heights    10360    10138     0.021898\n",
       "3       4                    Rexdale-Kipling    10529    10488     0.003909\n",
       "4       5                   Elms-Old Rexdale     9456     9550    -0.009843"
      ]
     },
     "execution_count": 85,
     "metadata": {},
     "output_type": "execute_result"
    }
   ],
   "source": [
    "# look at data\n",
    "pop.head()"
   ]
  },
  {
   "cell_type": "code",
   "execution_count": 86,
   "metadata": {},
   "outputs": [
    {
     "name": "stdout",
     "output_type": "stream",
     "text": [
      "<class 'pandas.core.frame.DataFrame'>\n",
      "RangeIndex: 140 entries, 0 to 139\n",
      "Data columns (total 3 columns):\n",
      " #   Column         Non-Null Count  Dtype \n",
      "---  ------         --------------  ----- \n",
      " 0   HoodID         140 non-null    int64 \n",
      " 1   Neighbourhood  140 non-null    object\n",
      " 2   Pop2016        140 non-null    int64 \n",
      "dtypes: int64(2), object(1)\n",
      "memory usage: 3.4+ KB\n"
     ]
    }
   ],
   "source": [
    "# drop columns we don't need\n",
    "cols2drop9 = ['Pop2011', 'PopChg11t16']\n",
    "for col in pop.columns:\n",
    "    if col in cols2drop9:\n",
    "        pop.drop(col, inplace=True, axis=1)\n",
    "        \n",
    "# confirm reduced dataframe\n",
    "pop.info()"
   ]
  },
  {
   "cell_type": "code",
   "execution_count": 87,
   "metadata": {},
   "outputs": [],
   "source": [
    "# rename HoodID to Hood_ID\n",
    "pop.rename(columns={'HoodID': 'Hood_ID'}, inplace=True)"
   ]
  },
  {
   "cell_type": "code",
   "execution_count": 88,
   "metadata": {},
   "outputs": [
    {
     "data": {
      "text/plain": [
       "140"
      ]
     },
     "execution_count": 88,
     "metadata": {},
     "output_type": "execute_result"
    }
   ],
   "source": [
    "# count how many neighbourhoods\n",
    "pop.Hood_ID.nunique()"
   ]
  },
  {
   "cell_type": "code",
   "execution_count": 89,
   "metadata": {},
   "outputs": [
    {
     "data": {
      "text/html": [
       "<div>\n",
       "<style scoped>\n",
       "    .dataframe tbody tr th:only-of-type {\n",
       "        vertical-align: middle;\n",
       "    }\n",
       "\n",
       "    .dataframe tbody tr th {\n",
       "        vertical-align: top;\n",
       "    }\n",
       "\n",
       "    .dataframe thead th {\n",
       "        text-align: right;\n",
       "    }\n",
       "</style>\n",
       "<table border=\"1\" class=\"dataframe\">\n",
       "  <thead>\n",
       "    <tr style=\"text-align: right;\">\n",
       "      <th></th>\n",
       "      <th>_id</th>\n",
       "      <th>Hood_ID</th>\n",
       "      <th>Neighbourhood_x</th>\n",
       "      <th>geometry</th>\n",
       "      <th>Neighbourhood_y</th>\n",
       "      <th>Pop2016</th>\n",
       "    </tr>\n",
       "  </thead>\n",
       "  <tbody>\n",
       "    <tr>\n",
       "      <th>0</th>\n",
       "      <td>1</td>\n",
       "      <td>93</td>\n",
       "      <td>Dovercourt-Wallace Emerson-Junction (93)</td>\n",
       "      <td>POLYGON ((-79.41842 43.66358, -79.41887 43.663...</td>\n",
       "      <td>Dovercourt-Wallace Emerson-Junction</td>\n",
       "      <td>36625</td>\n",
       "    </tr>\n",
       "    <tr>\n",
       "      <th>1</th>\n",
       "      <td>2</td>\n",
       "      <td>121</td>\n",
       "      <td>Oakridge (121)</td>\n",
       "      <td>POLYGON ((-79.26986 43.69584, -79.27009 43.695...</td>\n",
       "      <td>Oakridge</td>\n",
       "      <td>13845</td>\n",
       "    </tr>\n",
       "    <tr>\n",
       "      <th>2</th>\n",
       "      <td>3</td>\n",
       "      <td>110</td>\n",
       "      <td>Keelesdale-Eglinton West (110)</td>\n",
       "      <td>POLYGON ((-79.47242 43.67922, -79.47277 43.679...</td>\n",
       "      <td>Keelesdale-Eglinton West</td>\n",
       "      <td>11058</td>\n",
       "    </tr>\n",
       "    <tr>\n",
       "      <th>3</th>\n",
       "      <td>4</td>\n",
       "      <td>108</td>\n",
       "      <td>Briar Hill-Belgravia (108)</td>\n",
       "      <td>POLYGON ((-79.46462 43.69216, -79.46473 43.692...</td>\n",
       "      <td>Briar Hill-Belgravia</td>\n",
       "      <td>14257</td>\n",
       "    </tr>\n",
       "    <tr>\n",
       "      <th>4</th>\n",
       "      <td>5</td>\n",
       "      <td>45</td>\n",
       "      <td>Parkwoods-Donalda (45)</td>\n",
       "      <td>POLYGON ((-79.33055 43.73979, -79.33065 43.739...</td>\n",
       "      <td>Parkwoods-Donalda</td>\n",
       "      <td>34805</td>\n",
       "    </tr>\n",
       "  </tbody>\n",
       "</table>\n",
       "</div>"
      ],
      "text/plain": [
       "   _id  Hood_ID                           Neighbourhood_x  \\\n",
       "0    1       93  Dovercourt-Wallace Emerson-Junction (93)   \n",
       "1    2      121                            Oakridge (121)   \n",
       "2    3      110            Keelesdale-Eglinton West (110)   \n",
       "3    4      108                Briar Hill-Belgravia (108)   \n",
       "4    5       45                    Parkwoods-Donalda (45)   \n",
       "\n",
       "                                            geometry  \\\n",
       "0  POLYGON ((-79.41842 43.66358, -79.41887 43.663...   \n",
       "1  POLYGON ((-79.26986 43.69584, -79.27009 43.695...   \n",
       "2  POLYGON ((-79.47242 43.67922, -79.47277 43.679...   \n",
       "3  POLYGON ((-79.46462 43.69216, -79.46473 43.692...   \n",
       "4  POLYGON ((-79.33055 43.73979, -79.33065 43.739...   \n",
       "\n",
       "                       Neighbourhood_y  Pop2016  \n",
       "0  Dovercourt-Wallace Emerson-Junction    36625  \n",
       "1                             Oakridge    13845  \n",
       "2             Keelesdale-Eglinton West    11058  \n",
       "3                 Briar Hill-Belgravia    14257  \n",
       "4                    Parkwoods-Donalda    34805  "
      ]
     },
     "execution_count": 89,
     "metadata": {},
     "output_type": "execute_result"
    }
   ],
   "source": [
    "# the number of neighbourhoods in the pop data matches the number of neighbourhoods in our neighbourhood boundaries data\n",
    "# merge population data with neighbourhood boundaries\n",
    "tor_nbs = pd.merge(tor_nbs, pop, on=['Hood_ID'])\n",
    "\n",
    "# confirm\n",
    "tor_nbs.head()"
   ]
  },
  {
   "cell_type": "code",
   "execution_count": 90,
   "metadata": {},
   "outputs": [
    {
     "name": "stdout",
     "output_type": "stream",
     "text": [
      "<class 'geopandas.geodataframe.GeoDataFrame'>\n",
      "Int64Index: 140 entries, 0 to 139\n",
      "Data columns (total 5 columns):\n",
      " #   Column         Non-Null Count  Dtype   \n",
      "---  ------         --------------  -----   \n",
      " 0   _id            140 non-null    int64   \n",
      " 1   Hood_ID        140 non-null    int64   \n",
      " 2   geometry       140 non-null    geometry\n",
      " 3   Neighbourhood  140 non-null    object  \n",
      " 4   Pop            140 non-null    int64   \n",
      "dtypes: geometry(1), int64(3), object(1)\n",
      "memory usage: 6.6+ KB\n"
     ]
    }
   ],
   "source": [
    "# clean up Neighbourhoods\n",
    "\n",
    "# drop duplicate\n",
    "cols2drop10 = ['Neighbourhood_x']\n",
    "for col in tor_nbs.columns:\n",
    "    if col in cols2drop10:\n",
    "        tor_nbs.drop(col, inplace=True, axis=1)\n",
    "\n",
    "# rename remaining\n",
    "tor_nbs.rename(columns={'Neighbourhood_y': 'Neighbourhood', 'Pop2016': 'Pop'}, inplace=True)\n",
    "        \n",
    "# confirm reduced dataframe\n",
    "tor_nbs.info()"
   ]
  },
  {
   "cell_type": "markdown",
   "metadata": {},
   "source": [
    "### Save Neighbourhood data"
   ]
  },
  {
   "cell_type": "code",
   "execution_count": 91,
   "metadata": {},
   "outputs": [
    {
     "name": "stdout",
     "output_type": "stream",
     "text": [
      "Using 'tor_nbs.gpkg' as basis for saving data...\n",
      "Done.\n"
     ]
    }
   ],
   "source": [
    "# save tor_nbs as a geodataframe\n",
    "\n",
    "# Set save location\n",
    "path = os.path.join('data','geo')\n",
    "fn = 'tor_nbs.gpkg'\n",
    "\n",
    "if not os.path.exists(path):\n",
    "    print(f\"Creating {path} under {os.getcwd()}\")\n",
    "    os.makedirs(path)\n",
    "    \n",
    "print(f\"Using '{fn}' as basis for saving data...\")\n",
    "\n",
    "tor_nbs.to_file(os.path.join(path,fn), driver='GPKG')\n",
    "print(\"Done.\")"
   ]
  },
  {
   "cell_type": "markdown",
   "metadata": {},
   "source": [
    "# Test Plots"
   ]
  },
  {
   "cell_type": "code",
   "execution_count": 92,
   "metadata": {},
   "outputs": [
    {
     "name": "stdout",
     "output_type": "stream",
     "text": [
      "epsg:4326\n",
      "[-79.63926493  43.580996   -79.11527361  43.85545719]\n"
     ]
    },
    {
     "data": {
      "image/png": "[encoded data removed]",
      "text/plain": [
       "<Figure size 1296x1008 with 1 Axes>"
      ]
     },
     "metadata": {
      "needs_background": "light"
     },
     "output_type": "display_data"
    }
   ],
   "source": [
    "# plot neighbourhood boundaries\n",
    "print(tor_nbs.geometry.crs)\n",
    "print(tor_nbs.total_bounds)\n",
    "ax = tor_nbs.plot(figsize=(18,14), \n",
    "                  edgecolor='red', \n",
    "                  facecolor='none', \n",
    "                  linewidth=1, \n",
    "                  alpha=0.75)"
   ]
  },
  {
   "cell_type": "code",
   "execution_count": 93,
   "metadata": {},
   "outputs": [
    {
     "name": "stdout",
     "output_type": "stream",
     "text": [
      "epsg:4326\n",
      "[-79.6392252   43.58709189 -79.12306224  43.85375245]\n"
     ]
    },
    {
     "data": {
      "text/plain": [
       "<AxesSubplot:>"
      ]
     },
     "execution_count": 93,
     "metadata": {},
     "output_type": "execute_result"
    },
    {
     "data": {
      "image/png": "[encoded data removed]",
      "text/plain": [
       "<Figure size 1296x1008 with 1 Axes>"
      ]
     },
     "metadata": {
      "needs_background": "light"
     },
     "output_type": "display_data"
    }
   ],
   "source": [
    "# plot crime\n",
    "print(crime.geometry.crs)\n",
    "print(crime.total_bounds)\n",
    "crime.plot(figsize=(18,14), marker='*', color='green', markersize=3)"
   ]
  },
  {
   "cell_type": "code",
   "execution_count": 94,
   "metadata": {},
   "outputs": [
    {
     "data": {
      "image/png": "[encoded data removed]",
      "text/plain": [
       "<Figure size 1296x1008 with 1 Axes>"
      ]
     },
     "metadata": {
      "needs_background": "light"
     },
     "output_type": "display_data"
    }
   ],
   "source": [
    "# plot neighbourhoods ...\n",
    "base = tor_nbs.plot(figsize=(18,14), color='white', edgecolor='black')\n",
    "\n",
    "# ... with crime\n",
    "crime.plot(ax=base, figsize=(18,14), marker='o', color='red', markersize=3);"
   ]
  },
  {
   "cell_type": "code",
   "execution_count": 95,
   "metadata": {},
   "outputs": [],
   "source": [
    "# this looks good!\n",
    "# NOTE - it appears that some dots along the edges are outside toronto\n",
    "    # HOWEVER - documentation notes crime locations moved to closest intersection to maintain annonimity\n",
    "    # AS A RESULT - All included points have been verified as within an identified Toronto Neighbourhood, but may not appear so visually"
   ]
  },
  {
   "cell_type": "code",
   "execution_count": null,
   "metadata": {},
   "outputs": [],
   "source": []
  }
 ],
 "metadata": {
  "kernelspec": {
   "display_name": "Python 3",
   "language": "python",
   "name": "python3"
  },
  "language_info": {
   "codemirror_mode": {
    "name": "ipython",
    "version": 3
   },
   "file_extension": ".py",
   "mimetype": "text/x-python",
   "name": "python",
   "nbconvert_exporter": "python",
   "pygments_lexer": "ipython3",
   "version": "3.7.8"
  }
 },
 "nbformat": 4,
 "nbformat_minor": 4
}
